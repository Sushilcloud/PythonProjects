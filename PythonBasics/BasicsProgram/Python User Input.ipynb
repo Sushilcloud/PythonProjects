{
 "cells": [
  {
   "cell_type": "markdown",
   "id": "bbbf2699",
   "metadata": {},
   "source": [
    "# Python User Input"
   ]
  },
  {
   "cell_type": "markdown",
   "id": "a6f6efab",
   "metadata": {},
   "source": [
    "# User Input\n",
    "Python allows for user input.\n",
    "\n",
    "That means we are able to ask the user for input.\n",
    "\n",
    "The method is a bit different in Python 3.6 than Python 2.7.\n",
    "\n",
    "Python 3.6 uses the input() method.\n",
    "\n",
    "Python 2.7 uses the raw_input() method.\n",
    "\n",
    "The following example asks for the username, and when you entered the username, it gets printed on the screen:"
   ]
  },
  {
   "cell_type": "code",
   "execution_count": 1,
   "id": "f3dfe209",
   "metadata": {},
   "outputs": [
    {
     "name": "stdout",
     "output_type": "stream",
     "text": [
      "Enter username:sushil\n",
      "Username is: sushil\n"
     ]
    }
   ],
   "source": [
    "username = input(\"Enter username:\")\n",
    "print(\"Username is: \" + username)"
   ]
  },
  {
   "cell_type": "code",
   "execution_count": null,
   "id": "7be61903",
   "metadata": {},
   "outputs": [],
   "source": []
  }
 ],
 "metadata": {
  "kernelspec": {
   "display_name": "Python 3",
   "language": "python",
   "name": "python3"
  },
  "language_info": {
   "codemirror_mode": {
    "name": "ipython",
    "version": 3
   },
   "file_extension": ".py",
   "mimetype": "text/x-python",
   "name": "python",
   "nbconvert_exporter": "python",
   "pygments_lexer": "ipython3",
   "version": "3.8.8"
  }
 },
 "nbformat": 4,
 "nbformat_minor": 5
}
