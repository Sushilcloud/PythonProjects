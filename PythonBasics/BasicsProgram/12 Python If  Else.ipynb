{
 "cells": [
  {
   "cell_type": "markdown",
   "id": "c8d8f338",
   "metadata": {},
   "source": [
    "# Python If ... Else\n",
    "Python Conditions and If statements\n",
    "Python supports the usual logical conditions from mathematics:\n",
    "\n"
   ]
  },
  {
   "cell_type": "raw",
   "id": "b4b0a964",
   "metadata": {},
   "source": [
    "Equals: a == b\n",
    "Not Equals: a != b\n",
    "Less than: a < b\n",
    "Less than or equal to: a <= b\n",
    "Greater than: a > b\n",
    "Greater than or equal to: a >= b\n",
    "These conditions can be used in several ways, most commonly in \"if statements\" and loops.\n",
    "\n",
    "An \"if statement\" is written by using the if keyword.\n",
    "\n",
    "Example\n",
    "If statement:"
   ]
  },
  {
   "cell_type": "code",
   "execution_count": 1,
   "id": "fd712a42",
   "metadata": {},
   "outputs": [
    {
     "name": "stdout",
     "output_type": "stream",
     "text": [
      "b is greater than a\n"
     ]
    }
   ],
   "source": [
    "a=33\n",
    "b=200\n",
    "if b>a:\n",
    "    print(\"b is greater than a\")\n",
    "    "
   ]
  },
  {
   "cell_type": "markdown",
   "id": "2e5988b0",
   "metadata": {},
   "source": [
    "In this example we use two variables, a and b, which are used as part of the if statement to test whether b is greater than a. As a is 33, and b is 200, we know that 200 is greater than 33, and so we print to screen that \"b is greater than a\"."
   ]
  },
  {
   "cell_type": "markdown",
   "id": "736c7800",
   "metadata": {},
   "source": [
    "# Indentation\n",
    "Python relies on indentation (whitespace at the beginning of a line) to define scope in the code. Other programming languages often use curly-brackets for this purpose.\n",
    "\n",
    "Example\n",
    "If statement, without indentation (will raise an error):"
   ]
  },
  {
   "cell_type": "code",
   "execution_count": 5,
   "id": "a730a624",
   "metadata": {},
   "outputs": [
    {
     "ename": "IndentationError",
     "evalue": "expected an indented block (<ipython-input-5-4276c1871af7>, line 4)",
     "output_type": "error",
     "traceback": [
      "\u001b[1;36m  File \u001b[1;32m\"<ipython-input-5-4276c1871af7>\"\u001b[1;36m, line \u001b[1;32m4\u001b[0m\n\u001b[1;33m    print(\"b is greater than a\") # you will get an error\u001b[0m\n\u001b[1;37m    ^\u001b[0m\n\u001b[1;31mIndentationError\u001b[0m\u001b[1;31m:\u001b[0m expected an indented block\n"
     ]
    }
   ],
   "source": [
    "a = 33\n",
    "b = 200\n",
    "if b > a:\n",
    "print(\"b is greater than a\") # you will get an error"
   ]
  },
  {
   "cell_type": "markdown",
   "id": "85cff428",
   "metadata": {},
   "source": [
    "# Elif\n",
    "The elif keyword is pythons way of saying \"if the previous conditions were not true, then try this condition\".\n",
    "\n",
    "Example"
   ]
  },
  {
   "cell_type": "code",
   "execution_count": 8,
   "id": "c664b9c9",
   "metadata": {},
   "outputs": [
    {
     "name": "stdout",
     "output_type": "stream",
     "text": [
      "a and b are equal\n"
     ]
    }
   ],
   "source": [
    "a=33\n",
    "b=33\n",
    "if b>a:\n",
    "    print(\"b is greater than a\")\n",
    "elif a==b:\n",
    "    print(\"a and b are equal\")"
   ]
  },
  {
   "cell_type": "markdown",
   "id": "2e02c029",
   "metadata": {},
   "source": [
    " In this example a is equal to b, so the first condition is not true, but the elif condition is true, so we print to screen that \"a and b are equal\".\n",
    "\n"
   ]
  },
  {
   "cell_type": "markdown",
   "id": "2dcd27b4",
   "metadata": {},
   "source": [
    "# Else\n",
    "The else keyword catches anything which isn't caught by the preceding conditions.\n",
    "\n",
    "Example"
   ]
  },
  {
   "cell_type": "code",
   "execution_count": 9,
   "id": "1a583d1b",
   "metadata": {},
   "outputs": [
    {
     "name": "stdout",
     "output_type": "stream",
     "text": [
      "a is greater than b\n"
     ]
    }
   ],
   "source": [
    "a=200\n",
    "b=33\n",
    "if b>a:\n",
    "    print(\"b is greater than a\")\n",
    "elif a==b:\n",
    "    print(\"a and b are equal\")\n",
    "else:\n",
    "    print(\"a is greater than b\")"
   ]
  },
  {
   "cell_type": "markdown",
   "id": "ef4d780f",
   "metadata": {},
   "source": [
    "In this example a is greater than b, so the first condition is not true, also the elif condition is not true, so we go to the else condition and print to screen that \"a is greater than b\".\n",
    "\n",
    "You can also have an else without the elif:"
   ]
  },
  {
   "cell_type": "code",
   "execution_count": 10,
   "id": "c80e284d",
   "metadata": {},
   "outputs": [
    {
     "name": "stdout",
     "output_type": "stream",
     "text": [
      "b is not greater than a\n"
     ]
    }
   ],
   "source": [
    "a = 200\n",
    "b = 33\n",
    "if b > a:\n",
    "  print(\"b is greater than a\")\n",
    "else:\n",
    "  print(\"b is not greater than a\")"
   ]
  },
  {
   "cell_type": "markdown",
   "id": "6e2d0aa6",
   "metadata": {},
   "source": [
    "# Short Hand If\n",
    "If you have only one statement to execute, you can put it on the same line as the if statement.\n",
    "\n",
    "Example\n",
    "One line if statement:"
   ]
  },
  {
   "cell_type": "code",
   "execution_count": 11,
   "id": "3a6361a6",
   "metadata": {},
   "outputs": [
    {
     "name": "stdout",
     "output_type": "stream",
     "text": [
      "a is greater than b\n"
     ]
    }
   ],
   "source": [
    "a=100\n",
    "b=20\n",
    "if a>b:print(\"a is greater than b\")"
   ]
  },
  {
   "cell_type": "markdown",
   "id": "2e774ac9",
   "metadata": {},
   "source": [
    "# Short Hand If ... Else\n",
    "If you have only one statement to execute, one for if, and one for else, you can put it all on the same line:\n",
    "\n",
    "Example\n",
    "One line if else statement:"
   ]
  },
  {
   "cell_type": "code",
   "execution_count": 12,
   "id": "104dfad6",
   "metadata": {},
   "outputs": [
    {
     "name": "stdout",
     "output_type": "stream",
     "text": [
      "B\n"
     ]
    }
   ],
   "source": [
    "a=4\n",
    "b=120\n",
    "print(\"A\") if a>b else print(\"B\")"
   ]
  },
  {
   "cell_type": "markdown",
   "id": "34d9fc3d",
   "metadata": {},
   "source": [
    "This technique is known as Ternary Operators, or Conditional Expressions.\n",
    "\n",
    "You can also have multiple else statements on the same line:"
   ]
  },
  {
   "cell_type": "markdown",
   "id": "a3cb7f29",
   "metadata": {},
   "source": [
    "# Example\n",
    "One line if else statement, with 3 conditions:"
   ]
  },
  {
   "cell_type": "code",
   "execution_count": 13,
   "id": "5d773621",
   "metadata": {},
   "outputs": [
    {
     "name": "stdout",
     "output_type": "stream",
     "text": [
      "=\n"
     ]
    }
   ],
   "source": [
    "a=220\n",
    "b=220\n",
    "print(\"A\") if a>b else print(\"=\") if a==b else print(\"B\")"
   ]
  },
  {
   "cell_type": "markdown",
   "id": "d83a467f",
   "metadata": {},
   "source": [
    "# And\n",
    "The and keyword is a logical operator, and is used to combine conditional statements:\n",
    "\n",
    "Example\n",
    "Test if a is greater than b, AND if c is greater than a:"
   ]
  },
  {
   "cell_type": "code",
   "execution_count": 14,
   "id": "328d7b73",
   "metadata": {},
   "outputs": [
    {
     "name": "stdout",
     "output_type": "stream",
     "text": [
      "Both condition are true\n"
     ]
    }
   ],
   "source": [
    "a=200\n",
    "b=33\n",
    "c=500\n",
    "if a>b and c>a:\n",
    "    print(\"Both condition are true\")"
   ]
  },
  {
   "cell_type": "markdown",
   "id": "7a26079e",
   "metadata": {},
   "source": [
    "# Or\n",
    "The or keyword is a logical operator, and is used to combine conditional statements:\n",
    "\n",
    "Example\n",
    "Test if a is greater than b, OR if a is greater than c:"
   ]
  },
  {
   "cell_type": "code",
   "execution_count": 15,
   "id": "568f5a07",
   "metadata": {},
   "outputs": [
    {
     "name": "stdout",
     "output_type": "stream",
     "text": [
      "At least one condition is true\n"
     ]
    }
   ],
   "source": [
    "a=200\n",
    "b=22\n",
    "c=500\n",
    "if a>b or a>c:\n",
    "    print(\"At least one condition is true\")"
   ]
  },
  {
   "cell_type": "markdown",
   "id": "44ad3f31",
   "metadata": {},
   "source": [
    "# Nested If\n",
    "You can have if statements inside if statements, this is called nested if statements.\n",
    "\n",
    "Example"
   ]
  },
  {
   "cell_type": "code",
   "execution_count": 16,
   "id": "be4f75da",
   "metadata": {},
   "outputs": [
    {
     "name": "stdout",
     "output_type": "stream",
     "text": [
      "Above Ten\n",
      "also above 20\n"
     ]
    }
   ],
   "source": [
    "x=41\n",
    "if x>10:\n",
    "    print(\"Above Ten\")\n",
    "    if x>20:\n",
    "        print(\"also above 20\")\n",
    "    else:\n",
    "        print(\"but not above 20\")"
   ]
  },
  {
   "cell_type": "markdown",
   "id": "3ac2e455",
   "metadata": {},
   "source": [
    "# The pass Statement\n",
    "if statements cannot be empty, but if you for some reason have an if statement with no content, put in the pass statement to avoid getting an error.\n",
    "\n",
    "Example"
   ]
  },
  {
   "cell_type": "code",
   "execution_count": 17,
   "id": "771fd4c3",
   "metadata": {},
   "outputs": [],
   "source": [
    "a=33\n",
    "b=200\n",
    "if b>a:\n",
    "    pass"
   ]
  },
  {
   "cell_type": "code",
   "execution_count": null,
   "id": "fc5396c2",
   "metadata": {},
   "outputs": [],
   "source": []
  }
 ],
 "metadata": {
  "kernelspec": {
   "display_name": "Python 3",
   "language": "python",
   "name": "python3"
  },
  "language_info": {
   "codemirror_mode": {
    "name": "ipython",
    "version": 3
   },
   "file_extension": ".py",
   "mimetype": "text/x-python",
   "name": "python",
   "nbconvert_exporter": "python",
   "pygments_lexer": "ipython3",
   "version": "3.8.8"
  }
 },
 "nbformat": 4,
 "nbformat_minor": 5
}
