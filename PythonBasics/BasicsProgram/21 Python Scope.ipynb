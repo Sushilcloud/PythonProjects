{
 "cells": [
  {
   "cell_type": "markdown",
   "id": "70824f69",
   "metadata": {},
   "source": [
    "# Python Scope\n",
    "A variable is only available from inside the region it is created. This is called scope.\n",
    "\n",
    "Local Scope\n",
    "A variable created inside a function belongs to the local scope of that function, and can only be used inside that function.\n",
    "\n",
    "Example\n",
    "A variable created inside a function is available inside that function:"
   ]
  },
  {
   "cell_type": "code",
   "execution_count": 1,
   "id": "3b883c60",
   "metadata": {},
   "outputs": [
    {
     "name": "stdout",
     "output_type": "stream",
     "text": [
      "300\n"
     ]
    }
   ],
   "source": [
    "def myfunc():\n",
    "    x=300\n",
    "    print(x)\n",
    "myfunc()"
   ]
  },
  {
   "cell_type": "markdown",
   "id": "8b55f393",
   "metadata": {},
   "source": [
    "# Function Inside Function\n",
    "As explained in the example above, the variable x is not available outside the function, but it is available for any function inside the function:\n",
    "\n",
    "Example\n",
    "The local variable can be accessed from a function within the function:"
   ]
  },
  {
   "cell_type": "code",
   "execution_count": 4,
   "id": "4e108368",
   "metadata": {},
   "outputs": [
    {
     "name": "stdout",
     "output_type": "stream",
     "text": [
      "300\n"
     ]
    }
   ],
   "source": [
    "def myfunc():\n",
    "    x=300\n",
    "    def myinnerfunc():\n",
    "        print(x)\n",
    "    myinnerfunc()\n",
    "myfunc()"
   ]
  },
  {
   "cell_type": "markdown",
   "id": "f04c81a3",
   "metadata": {},
   "source": [
    "# Global Scope\n",
    "A variable created in the main body of the Python code is a global variable and belongs to the global scope.\n",
    "\n",
    "Global variables are available from within any scope, global and local.\n",
    "\n",
    "Example\n",
    "A variable created outside of a function is global and can be used by anyone:"
   ]
  },
  {
   "cell_type": "code",
   "execution_count": 5,
   "id": "afb841c7",
   "metadata": {},
   "outputs": [
    {
     "name": "stdout",
     "output_type": "stream",
     "text": [
      "300\n",
      "300\n"
     ]
    }
   ],
   "source": [
    "x=300\n",
    "def myfunc():\n",
    "    print(x)\n",
    "myfunc()\n",
    "print(x)"
   ]
  },
  {
   "cell_type": "markdown",
   "id": "697692e8",
   "metadata": {},
   "source": [
    "# Naming Variables\n",
    "If you operate with the same variable name inside and outside of a function, Python will treat them as two separate variables, one available in the global scope (outside the function) and one available in the local scope (inside the function):\n",
    "\n",
    "Example\n",
    "The function will print the local x, and then the code will print the global x:"
   ]
  },
  {
   "cell_type": "code",
   "execution_count": 7,
   "id": "0ed84b0c",
   "metadata": {},
   "outputs": [
    {
     "name": "stdout",
     "output_type": "stream",
     "text": [
      "200\n",
      "300\n"
     ]
    }
   ],
   "source": [
    "x=300\n",
    "def myfunc():\n",
    "    x=200\n",
    "    print(x)\n",
    "myfunc()\n",
    "print(x)"
   ]
  },
  {
   "cell_type": "markdown",
   "id": "d6c2cbdc",
   "metadata": {},
   "source": [
    "# Global Keyword\n",
    "If you need to create a global variable, but are stuck in the local scope, you can use the global keyword.\n",
    "\n",
    "The global keyword makes the variable global.\n",
    "\n",
    "Example\n",
    "If you use the global keyword, the variable belongs to the global scope:"
   ]
  },
  {
   "cell_type": "code",
   "execution_count": 9,
   "id": "393082d2",
   "metadata": {},
   "outputs": [
    {
     "name": "stdout",
     "output_type": "stream",
     "text": [
      "300\n"
     ]
    }
   ],
   "source": [
    "def myfunc():\n",
    "    global x\n",
    "    x=300\n",
    "myfunc()\n",
    "print(x)\n",
    "# Also, use the global keyword if you want to make a change to a global variable inside a function."
   ]
  },
  {
   "cell_type": "markdown",
   "id": "44bdc4fb",
   "metadata": {},
   "source": [
    "Example\n",
    "To change the value of a global variable inside a function, refer to the variable by using the global keyword:"
   ]
  },
  {
   "cell_type": "code",
   "execution_count": 10,
   "id": "1d3ece4a",
   "metadata": {},
   "outputs": [
    {
     "name": "stdout",
     "output_type": "stream",
     "text": [
      "200\n"
     ]
    }
   ],
   "source": [
    "x = 300\n",
    "\n",
    "def myfunc():\n",
    "  global x\n",
    "  x = 200\n",
    "\n",
    "myfunc()\n",
    "\n",
    "print(x)"
   ]
  },
  {
   "cell_type": "code",
   "execution_count": null,
   "id": "e75dc680",
   "metadata": {},
   "outputs": [],
   "source": []
  }
 ],
 "metadata": {
  "kernelspec": {
   "display_name": "Python 3",
   "language": "python",
   "name": "python3"
  },
  "language_info": {
   "codemirror_mode": {
    "name": "ipython",
    "version": 3
   },
   "file_extension": ".py",
   "mimetype": "text/x-python",
   "name": "python",
   "nbconvert_exporter": "python",
   "pygments_lexer": "ipython3",
   "version": "3.8.8"
  }
 },
 "nbformat": 4,
 "nbformat_minor": 5
}
