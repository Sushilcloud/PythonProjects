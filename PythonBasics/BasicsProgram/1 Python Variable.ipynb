{
 "cells": [
  {
   "cell_type": "markdown",
   "id": "d869d459",
   "metadata": {},
   "source": [
    "https://www.w3schools.com/python/python_variables_names.asp\n",
    "\n",
    "# Variable\n",
    "x=5\n",
    "y=\"John\"\n",
    "print(x)\n",
    "print(y)"
   ]
  },
  {
   "cell_type": "code",
   "execution_count": 16,
   "id": "3e779809",
   "metadata": {},
   "outputs": [
    {
     "name": "stdout",
     "output_type": "stream",
     "text": [
      "sally\n"
     ]
    }
   ],
   "source": [
    " # Variables do not need to be declared with any particular type, and can even change type after they have been set.\n",
    "x=4\n",
    "x=\"sally\"\n",
    "print(x)"
   ]
  },
  {
   "cell_type": "code",
   "execution_count": 12,
   "id": "6c8f0022",
   "metadata": {},
   "outputs": [
    {
     "name": "stdout",
     "output_type": "stream",
     "text": [
      "3\n",
      "4\n",
      "3.0\n"
     ]
    },
    {
     "data": {
      "text/plain": [
       "float"
      ]
     },
     "execution_count": 12,
     "metadata": {},
     "output_type": "execute_result"
    }
   ],
   "source": [
    "#Casting\n",
    "# If you want to specify the data type of a variable, this can be done with casting.\n",
    "x=str(3)\n",
    "y=int(4)\n",
    "z=float(3)\n",
    "\n",
    "print(x)\n",
    "print(y)\n",
    "print(z)\n",
    "\n",
    "type(x)\n",
    "type(y)\n",
    "type(z)"
   ]
  },
  {
   "cell_type": "code",
   "execution_count": 13,
   "id": "7e940470",
   "metadata": {},
   "outputs": [],
   "source": [
    "#Single or Double Quotes?\n",
    "# String variables can be declared either by using single or double quotes:\n",
    "x=\"John\"\n",
    "# is the same as\n",
    "x='John'"
   ]
  },
  {
   "cell_type": "code",
   "execution_count": 15,
   "id": "4a7b6b71",
   "metadata": {},
   "outputs": [
    {
     "name": "stdout",
     "output_type": "stream",
     "text": [
      "4\n",
      "Sally\n"
     ]
    }
   ],
   "source": [
    "# Case-Sensitive\n",
    " # Variable names are case-sensitive.\n",
    "a=4\n",
    "A=\"Sally\"\n",
    "print(a)\n",
    "print(A)"
   ]
  },
  {
   "cell_type": "markdown",
   "id": "23b78d43",
   "metadata": {},
   "source": [
    "# Variable Names\n",
    "A variable can have a short name (like x and y) or a more descriptive name (age, carname, total_volume). Rules for Python variables:\n",
    "A variable name must start with a letter or the underscore character\n",
    "A variable name cannot start with a number\n",
    "A variable name can only contain alpha-numeric characters and underscores (A-z, 0-9, and _ )\n",
    "Variable names are case-sensitive (age, Age and AGE are three different variables)"
   ]
  },
  {
   "cell_type": "code",
   "execution_count": 19,
   "id": "4f636cbc",
   "metadata": {},
   "outputs": [],
   "source": [
    "myvar=\"John\"\n",
    "my_var=\"John\"\n",
    "_my_var=\"John\"\n",
    "myVar=\"John\"\n",
    "MYVAR=\"John\"\n",
    "myvar2=\"John\""
   ]
  },
  {
   "cell_type": "code",
   "execution_count": 20,
   "id": "de131459",
   "metadata": {},
   "outputs": [],
   "source": [
    "# Camel Case\n",
    "# Each word, except the first, starts with a capital letter:\n",
    "myVariableName=\"John\""
   ]
  },
  {
   "cell_type": "code",
   "execution_count": 21,
   "id": "d464ec8e",
   "metadata": {},
   "outputs": [],
   "source": [
    "# Pascal Case\n",
    "# Each word starts with a capital letter:\n",
    "MyVariableName=\"JOhn\""
   ]
  },
  {
   "cell_type": "code",
   "execution_count": 22,
   "id": "566ef268",
   "metadata": {},
   "outputs": [],
   "source": [
    "# Snake Case\n",
    "# Each word is separated by an underscore character:\n",
    "my_variable_name=\"John\""
   ]
  },
  {
   "cell_type": "markdown",
   "id": "cb49da2a",
   "metadata": {},
   "source": [
    "# Many Values to Multiple Variables\n",
    "Python allows you to assign values to multiple variables in one line:\n"
   ]
  },
  {
   "cell_type": "code",
   "execution_count": 23,
   "id": "d858a36f",
   "metadata": {},
   "outputs": [
    {
     "name": "stdout",
     "output_type": "stream",
     "text": [
      "Orange\n",
      "Mango\n",
      "Apple\n"
     ]
    }
   ],
   "source": [
    "# Many Values to Multiple Variables\n",
    "# Python allows you to assign values to multiple variables in one line:\n",
    "x,y,z=\"Orange\",\"Mango\",\"Apple\"\n",
    "print(x)\n",
    "print(y)\n",
    "print(z)"
   ]
  },
  {
   "cell_type": "code",
   "execution_count": 26,
   "id": "4e903000",
   "metadata": {},
   "outputs": [
    {
     "name": "stdout",
     "output_type": "stream",
     "text": [
      "Orange\n",
      "Orange\n",
      "Orange\n"
     ]
    }
   ],
   "source": [
    "# One Value to Multiple Variables\n",
    "# And you can assign the same value to multiple variables in one line:\n",
    "x=y=z= \"Orange\"\n",
    "print(x)\n",
    "print(y)\n",
    "print(z)"
   ]
  },
  {
   "cell_type": "code",
   "execution_count": 27,
   "id": "f33f3953",
   "metadata": {},
   "outputs": [
    {
     "name": "stdout",
     "output_type": "stream",
     "text": [
      "apple\n",
      "mango\n",
      "orange\n"
     ]
    }
   ],
   "source": [
    "# Unpack a Collection\n",
    "# If you have a collection of values in a list, tuple etc. \n",
    "# Python allows you extract the values into variables. This is called unpacking.\n",
    "\n",
    "# Unpack a list:\n",
    "fruits=[\"apple\",\"mango\",\"orange\"]\n",
    "x,y,z=fruits\n",
    "print(x)\n",
    "print(y)\n",
    "print(z)"
   ]
  },
  {
   "cell_type": "markdown",
   "id": "f8ee294e",
   "metadata": {},
   "source": [
    "# Python - Output Variables\n",
    "Output Variables\n",
    "The Python print statement is often used to output variables.\n",
    "\n",
    "To combine both text and a variable, Python uses the + character:\n"
   ]
  },
  {
   "cell_type": "code",
   "execution_count": 28,
   "id": "c0e6de9a",
   "metadata": {},
   "outputs": [
    {
     "name": "stdout",
     "output_type": "stream",
     "text": [
      "Python is  awesome\n"
     ]
    }
   ],
   "source": [
    "x=\"awesome\"\n",
    "print(\"Python is \",x)"
   ]
  },
  {
   "cell_type": "code",
   "execution_count": 30,
   "id": "6cb3b002",
   "metadata": {},
   "outputs": [
    {
     "name": "stdout",
     "output_type": "stream",
     "text": [
      "Python is awesome\n"
     ]
    }
   ],
   "source": [
    "x=\"Python is \"\n",
    "y=\"awesome\"\n",
    "z=x+y\n",
    "print(z)"
   ]
  },
  {
   "cell_type": "code",
   "execution_count": 32,
   "id": "793026b4",
   "metadata": {},
   "outputs": [
    {
     "name": "stdout",
     "output_type": "stream",
     "text": [
      "16\n"
     ]
    }
   ],
   "source": [
    "x=6\n",
    "y=10\n",
    "print(x+y)"
   ]
  },
  {
   "cell_type": "code",
   "execution_count": 33,
   "id": "2a19911a",
   "metadata": {},
   "outputs": [
    {
     "ename": "TypeError",
     "evalue": "can only concatenate tuple (not \"str\") to tuple",
     "output_type": "error",
     "traceback": [
      "\u001b[1;31m---------------------------------------------------------------------------\u001b[0m",
      "\u001b[1;31mTypeError\u001b[0m                                 Traceback (most recent call last)",
      "\u001b[1;32m<ipython-input-33-c86dfb194e57>\u001b[0m in \u001b[0;36m<module>\u001b[1;34m\u001b[0m\n\u001b[0;32m      1\u001b[0m \u001b[0mx\u001b[0m\u001b[1;33m=\u001b[0m\u001b[1;36m5\u001b[0m\u001b[1;33m,\u001b[0m\u001b[1;33m\u001b[0m\u001b[1;33m\u001b[0m\u001b[0m\n\u001b[0;32m      2\u001b[0m \u001b[0my\u001b[0m\u001b[1;33m=\u001b[0m\u001b[1;34m\"John\"\u001b[0m\u001b[1;33m\u001b[0m\u001b[1;33m\u001b[0m\u001b[0m\n\u001b[1;32m----> 3\u001b[1;33m \u001b[0mprint\u001b[0m\u001b[1;33m(\u001b[0m\u001b[0mx\u001b[0m\u001b[1;33m+\u001b[0m\u001b[0my\u001b[0m\u001b[1;33m)\u001b[0m\u001b[1;33m\u001b[0m\u001b[1;33m\u001b[0m\u001b[0m\n\u001b[0m",
      "\u001b[1;31mTypeError\u001b[0m: can only concatenate tuple (not \"str\") to tuple"
     ]
    }
   ],
   "source": [
    "x=5,\n",
    "y=\"John\"\n",
    "print(x+y)"
   ]
  },
  {
   "cell_type": "markdown",
   "id": "5ccec192",
   "metadata": {},
   "source": [
    "# Python - Global Variables\n",
    "Global Variables\n",
    "Variables that are created outside of a function (as in all of the examples above) are known as global variables.\n",
    "\n",
    "Global variables can be used by everyone, both inside of functions and outside."
   ]
  },
  {
   "cell_type": "code",
   "execution_count": 34,
   "id": "c0e4a03c",
   "metadata": {},
   "outputs": [],
   "source": [
    "# Example\n",
    "# Create a variable outside of a function, and use it inside the function"
   ]
  },
  {
   "cell_type": "code",
   "execution_count": 35,
   "id": "8503e21f",
   "metadata": {},
   "outputs": [
    {
     "name": "stdout",
     "output_type": "stream",
     "text": [
      "Python is  awesome\n"
     ]
    }
   ],
   "source": [
    "x=\"awesome\"\n",
    "def myfunc():\n",
    "    print(\"Python is \",x)\n",
    "myfunc()"
   ]
  },
  {
   "cell_type": "code",
   "execution_count": 36,
   "id": "5cabb49f",
   "metadata": {},
   "outputs": [],
   "source": [
    "# If you create a variable with the same name inside a function, this variable will be local, \n",
    "# and can only be used inside the function. The global variable with\n",
    "# the same name will remain as it was, global and with the original value."
   ]
  },
  {
   "cell_type": "code",
   "execution_count": 38,
   "id": "40fd8ea1",
   "metadata": {},
   "outputs": [
    {
     "name": "stdout",
     "output_type": "stream",
     "text": [
      "Python is fantastic\n",
      "Python is awesome\n"
     ]
    }
   ],
   "source": [
    "# Example\n",
    "# If you use the global keyword, the variable belongs to the global scope:\n",
    "x=\"awesome\"\n",
    "def myfunc():\n",
    "    x=\"fantastic\"\n",
    "    print(\"Python is \"+x)\n",
    "myfunc()\n",
    "print(\"Python is \" +x)"
   ]
  },
  {
   "cell_type": "code",
   "execution_count": 40,
   "id": "ae97ede4",
   "metadata": {},
   "outputs": [
    {
     "name": "stdout",
     "output_type": "stream",
     "text": [
      "Python is  fantastic\n"
     ]
    }
   ],
   "source": [
    "# Example\n",
    "# To change the value of a global variable inside a function, refer to the variable by using the global keyword:\n",
    "x=\"awesome\"\n",
    "def myfunc():\n",
    "    global x\n",
    "    x=\"fantastic\"\n",
    "myfunc()\n",
    "print(\"Python is \",x)"
   ]
  },
  {
   "cell_type": "code",
   "execution_count": null,
   "id": "c4c1c4b3",
   "metadata": {},
   "outputs": [],
   "source": []
  }
 ],
 "metadata": {
  "kernelspec": {
   "display_name": "Python 3",
   "language": "python",
   "name": "python3"
  },
  "language_info": {
   "codemirror_mode": {
    "name": "ipython",
    "version": 3
   },
   "file_extension": ".py",
   "mimetype": "text/x-python",
   "name": "python",
   "nbconvert_exporter": "python",
   "pygments_lexer": "ipython3",
   "version": "3.8.8"
  }
 },
 "nbformat": 4,
 "nbformat_minor": 5
}
