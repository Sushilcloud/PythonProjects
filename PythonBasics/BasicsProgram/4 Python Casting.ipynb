{
 "cells": [
  {
   "cell_type": "markdown",
   "id": "b6715f9e",
   "metadata": {},
   "source": [
    "# Python Casting"
   ]
  },
  {
   "cell_type": "raw",
   "id": "bb8b737b",
   "metadata": {},
   "source": [
    "Specify a Variable Type\n",
    "There may be times when you want to specify a type on to a variable. This can be done with casting. Python is an object-orientated language, and as such it uses classes to define data types, including its primitive types.\n",
    "\n",
    "Casting in python is therefore done using constructor functions:\n",
    "\n",
    "int() - constructs an integer number from an integer literal, a float literal (by removing all decimals), or a string literal (providing the string represents a whole number)\n",
    "float() - constructs a float number from an integer literal, a float literal or a string literal (providing the string represents a float or an integer)\n",
    "str() - constructs a string from a wide variety of data types, including strings, integer literals and float literals"
   ]
  },
  {
   "cell_type": "markdown",
   "id": "b9a1e84d",
   "metadata": {},
   "source": [
    "# Example\n",
    "Integers:"
   ]
  },
  {
   "cell_type": "code",
   "execution_count": 1,
   "id": "c93ba76e",
   "metadata": {},
   "outputs": [],
   "source": [
    "x=int(1)  # x will be 1\n",
    "y=int(2.8) # y will be 2\n",
    "z=int(\"3\")  # z will be 3"
   ]
  },
  {
   "cell_type": "code",
   "execution_count": 2,
   "id": "43da6ada",
   "metadata": {},
   "outputs": [
    {
     "name": "stdout",
     "output_type": "stream",
     "text": [
      "1\n",
      "2\n",
      "3\n"
     ]
    }
   ],
   "source": [
    "print(x)\n",
    "print(y)\n",
    "print(z)"
   ]
  },
  {
   "cell_type": "code",
   "execution_count": 3,
   "id": "1ef9e32f",
   "metadata": {},
   "outputs": [
    {
     "name": "stdout",
     "output_type": "stream",
     "text": [
      "<class 'int'>\n",
      "<class 'int'>\n",
      "<class 'int'>\n"
     ]
    }
   ],
   "source": [
    "print(type(x))\n",
    "print(type(y))\n",
    "print(type(z))"
   ]
  },
  {
   "cell_type": "markdown",
   "id": "6328adca",
   "metadata": {},
   "source": [
    "# Example\n",
    "Floats:\n"
   ]
  },
  {
   "cell_type": "code",
   "execution_count": 5,
   "id": "88ca8a9d",
   "metadata": {},
   "outputs": [
    {
     "name": "stdout",
     "output_type": "stream",
     "text": [
      "1.0\n",
      "2.8\n",
      "3.0\n"
     ]
    }
   ],
   "source": [
    "x=float(1)      # x will be 1\n",
    "y=float(2.8)    # y will be 2.8\n",
    "z=float(\"3\")    # z will be 3\n",
    "w=float(\"4.2\")  #  w will be 4.2\n",
    "\n",
    "print(x)\n",
    "print(y)\n",
    "print(z)"
   ]
  },
  {
   "cell_type": "markdown",
   "id": "98011c70",
   "metadata": {},
   "source": [
    "# Example\n",
    "Strings:"
   ]
  },
  {
   "cell_type": "code",
   "execution_count": 6,
   "id": "eeb11ed6",
   "metadata": {},
   "outputs": [
    {
     "name": "stdout",
     "output_type": "stream",
     "text": [
      "s1\n",
      "2\n",
      "3.0\n"
     ]
    }
   ],
   "source": [
    "x=str(\"s1\")   # x will be s1\n",
    "y=str(2)      # y will be 2\n",
    "z=str(3.0)    # z will be 3\n",
    "print(x)\n",
    "print(y)\n",
    "print(z)"
   ]
  },
  {
   "cell_type": "code",
   "execution_count": null,
   "id": "3c9d2072",
   "metadata": {},
   "outputs": [],
   "source": []
  }
 ],
 "metadata": {
  "kernelspec": {
   "display_name": "Python 3",
   "language": "python",
   "name": "python3"
  },
  "language_info": {
   "codemirror_mode": {
    "name": "ipython",
    "version": 3
   },
   "file_extension": ".py",
   "mimetype": "text/x-python",
   "name": "python",
   "nbconvert_exporter": "python",
   "pygments_lexer": "ipython3",
   "version": "3.8.8"
  }
 },
 "nbformat": 4,
 "nbformat_minor": 5
}
