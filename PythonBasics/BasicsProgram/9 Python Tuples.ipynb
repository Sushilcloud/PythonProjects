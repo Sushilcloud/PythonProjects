{
 "cells": [
  {
   "cell_type": "markdown",
   "id": "ccce298a",
   "metadata": {},
   "source": [
    "# Python Tuples\n",
    "mytuple = (\"apple\", \"banana\", \"cherry\")\n",
    "Tuple\n",
    "Tuples are used to store multiple items in a single variable.\n",
    "\n",
    "Tuple is one of 4 built-in data types in Python used to store collections of data, the other 3 are List, Set, and Dictionary, all with different qualities and usage.\n",
    "\n",
    "A tuple is a collection which is ordered and unchangeable.\n",
    "\n",
    "Tuples are written with round brackets.\n",
    "\n",
    "Example\n",
    "Create a Tuple:"
   ]
  },
  {
   "cell_type": "code",
   "execution_count": 1,
   "id": "b9eaa673",
   "metadata": {},
   "outputs": [
    {
     "name": "stdout",
     "output_type": "stream",
     "text": [
      "('apple', 'banana', 'cherry')\n"
     ]
    }
   ],
   "source": [
    "thistuple=(\"apple\",\"banana\",\"cherry\")\n",
    "print(thistuple)"
   ]
  },
  {
   "cell_type": "markdown",
   "id": "658149a1",
   "metadata": {},
   "source": [
    "Tuple Items\n",
    "Tuple items are ordered, unchangeable, and allow duplicate values.\n",
    "\n",
    "Tuple items are indexed, the first item has index [0], the second item has index [1] etc.\n",
    "\n",
    "Ordered\n",
    "When we say that tuples are ordered, it means that the items have a defined order, and that order will not change.\n",
    "\n",
    "Unchangeable\n",
    "Tuples are unchangeable, meaning that we cannot change, add or remove items after the tuple has been created.\n",
    "\n",
    "Allow Duplicates\n",
    "Since tuples are indexed, they can have items with the same value:\n",
    "\n",
    "Example\n",
    "Tuples allow duplicate values:\n",
    "\n"
   ]
  },
  {
   "cell_type": "code",
   "execution_count": 2,
   "id": "9cff3b42",
   "metadata": {},
   "outputs": [
    {
     "name": "stdout",
     "output_type": "stream",
     "text": [
      "('apple', 'banana', 'cherry', 'apple', 'cherry')\n"
     ]
    }
   ],
   "source": [
    "thistuple=(\"apple\",\"banana\",\"cherry\",\"apple\",\"cherry\")\n",
    "print(thistuple)"
   ]
  },
  {
   "cell_type": "markdown",
   "id": "0dfb9eb3",
   "metadata": {},
   "source": [
    "# Tuple Length\n",
    "To determine how many items a tuple has, use the len() function:\n",
    "\n",
    "Example\n",
    "Print the number of items in the tuple:"
   ]
  },
  {
   "cell_type": "code",
   "execution_count": 3,
   "id": "68cfd9e9",
   "metadata": {},
   "outputs": [
    {
     "name": "stdout",
     "output_type": "stream",
     "text": [
      "3\n"
     ]
    }
   ],
   "source": [
    "thistuple=(\"apple\",\"banana\",\"cherry\")\n",
    "print(len(thistuple))"
   ]
  },
  {
   "cell_type": "markdown",
   "id": "b3bfd416",
   "metadata": {},
   "source": [
    "# Create Tuple With One Item\n",
    "To create a tuple with only one item, you have to add a comma after the item, otherwise Python will not recognize it as a tuple.\n",
    "\n",
    "Example\n",
    "One item tuple, remember the comma:"
   ]
  },
  {
   "cell_type": "code",
   "execution_count": 5,
   "id": "ca90aea8",
   "metadata": {},
   "outputs": [
    {
     "name": "stdout",
     "output_type": "stream",
     "text": [
      "<class 'tuple'>\n"
     ]
    }
   ],
   "source": [
    "thistuple=(\"apple\",)\n",
    "print(type(thistuple))"
   ]
  },
  {
   "cell_type": "code",
   "execution_count": 7,
   "id": "66a0feac",
   "metadata": {},
   "outputs": [
    {
     "name": "stdout",
     "output_type": "stream",
     "text": [
      "<class 'str'>\n"
     ]
    }
   ],
   "source": [
    "# not a tuple\n",
    "thistuple=(\"apple\")\n",
    "print(type(thistuple))"
   ]
  },
  {
   "cell_type": "markdown",
   "id": "0cc7eef1",
   "metadata": {},
   "source": [
    "# Tuple Items - Data Types\n",
    "Tuple items can be of any data type:\n",
    "\n",
    "Example\n",
    "String, int and boolean data types:"
   ]
  },
  {
   "cell_type": "code",
   "execution_count": 8,
   "id": "456df8d2",
   "metadata": {},
   "outputs": [],
   "source": [
    "tuple1=(\"apple\",\"banana\",\"cherry\")\n",
    "tuple2=(1,2,4,4,5)\n",
    "tuple3=(True,False,True)"
   ]
  },
  {
   "cell_type": "markdown",
   "id": "300c5db9",
   "metadata": {},
   "source": [
    "A tuple can contain different data types:\n",
    "\n",
    "Example\n",
    "A tuple with strings, integers and boolean values:"
   ]
  },
  {
   "cell_type": "code",
   "execution_count": 9,
   "id": "e5b0a876",
   "metadata": {},
   "outputs": [],
   "source": [
    "tuple1=(\"apple\",24,True,40,\"male\")"
   ]
  },
  {
   "cell_type": "code",
   "execution_count": 10,
   "id": "65b4dbf8",
   "metadata": {},
   "outputs": [
    {
     "name": "stdout",
     "output_type": "stream",
     "text": [
      "('apple', 24, True, 40, 'male')\n"
     ]
    }
   ],
   "source": [
    "print(tuple1)"
   ]
  },
  {
   "cell_type": "markdown",
   "id": "2a5fb573",
   "metadata": {},
   "source": [
    "Example\n",
    "What is the data type of a tuple?"
   ]
  },
  {
   "cell_type": "code",
   "execution_count": 12,
   "id": "5a3b1fd8",
   "metadata": {},
   "outputs": [
    {
     "name": "stdout",
     "output_type": "stream",
     "text": [
      "('apple', 'mango', 'banana')\n",
      "<class 'tuple'>\n"
     ]
    }
   ],
   "source": [
    "mytuple=(\"apple\",\"mango\",\"banana\")\n",
    "print(mytuple)\n",
    "print(type(mytuple))"
   ]
  },
  {
   "cell_type": "markdown",
   "id": "31248244",
   "metadata": {},
   "source": [
    "# The tuple() Constructor\n",
    "It is also possible to use the tuple() constructor to make a tuple.\n",
    "\n",
    "Example\n",
    "Using the tuple() method to make a tuple:"
   ]
  },
  {
   "cell_type": "code",
   "execution_count": 13,
   "id": "1fcc1391",
   "metadata": {},
   "outputs": [
    {
     "name": "stdout",
     "output_type": "stream",
     "text": [
      "('apple', 'banana', 'cherry')\n"
     ]
    }
   ],
   "source": [
    "thistuple = tuple((\"apple\", \"banana\", \"cherry\")) # note the double round-brackets\n",
    "print(thistuple)"
   ]
  },
  {
   "cell_type": "raw",
   "id": "baa1c14f",
   "metadata": {},
   "source": [
    "# Python Collections (Arrays)\n",
    "There are four collection data types in the Python programming language:\n",
    "\n",
    "List is a collection which is ordered and changeable. Allows duplicate members.\n",
    "Tuple is a collection which is ordered and unchangeable. Allows duplicate members.\n",
    "Set is a collection which is unordered and unindexed. No duplicate members.\n",
    "Dictionary is a collection which is ordered* and changeable. No duplicate members.\n",
    "*As of Python version 3.7, dictionaries are ordered. In Python 3.6 and earlier, dictionaries are unordered.\n",
    "\n",
    "When choosing a collection type, it is useful to understand the properties of that type. Choosing the right type for a particular data set could mean retention of meaning, and, it could mean an increase in efficiency or security."
   ]
  },
  {
   "cell_type": "code",
   "execution_count": null,
   "id": "0affb77d",
   "metadata": {},
   "outputs": [],
   "source": []
  },
  {
   "cell_type": "markdown",
   "id": "eabaed0b",
   "metadata": {},
   "source": [
    "# Python - Access Tuple Items\n",
    "Access Tuple Items\n",
    "You can access tuple items by referring to the index number, inside square brackets:\n",
    "\n",
    "Example\n",
    "Print the second item in the tuple:"
   ]
  },
  {
   "cell_type": "code",
   "execution_count": 16,
   "id": "3cfca2c9",
   "metadata": {},
   "outputs": [
    {
     "name": "stdout",
     "output_type": "stream",
     "text": [
      "banana\n"
     ]
    }
   ],
   "source": [
    "thistuple=(\"apple\",\"banana\",\"cherry\")\n",
    "print(thistuple[1])\n",
    "#Note: The first item has index 0."
   ]
  },
  {
   "cell_type": "markdown",
   "id": "50823ef4",
   "metadata": {},
   "source": [
    "# Negative Indexing\n",
    "Negative indexing means start from the end.\n",
    "\n",
    "-1 refers to the last item, -2 refers to the second last item etc.\n",
    "\n",
    "Example\n",
    "Print the last item of the tuple:"
   ]
  },
  {
   "cell_type": "code",
   "execution_count": 17,
   "id": "94678dd3",
   "metadata": {},
   "outputs": [
    {
     "name": "stdout",
     "output_type": "stream",
     "text": [
      "cherry\n",
      "banana\n"
     ]
    }
   ],
   "source": [
    "thistuple=(\"apple\",\"banana\",\"cherry\")\n",
    "print(thistuple[-1])\n",
    "print(thistuple[-2])"
   ]
  },
  {
   "cell_type": "markdown",
   "id": "3ee05b1a",
   "metadata": {},
   "source": [
    "# Range of Indexes\n",
    "You can specify a range of indexes by specifying where to start and where to end the range.\n",
    "\n",
    "When specifying a range, the return value will be a new tuple with the specified items.\n",
    "\n",
    "Example\n",
    "Return the third, fourth, and fifth item:"
   ]
  },
  {
   "cell_type": "code",
   "execution_count": 19,
   "id": "0aeec1a3",
   "metadata": {},
   "outputs": [
    {
     "name": "stdout",
     "output_type": "stream",
     "text": [
      "('cherry', 'orange', 'kiwi')\n"
     ]
    }
   ],
   "source": [
    "thistuple = (\"apple\", \"banana\", \"cherry\", \"orange\", \"kiwi\", \"melon\", \"mango\")\n",
    "print(thistuple[2:5])\n",
    "# Note: The search will start at index 2 (included) and end at index 5 (not included).\n",
    "# Remember that the first item has index 0."
   ]
  },
  {
   "cell_type": "markdown",
   "id": "3534b593",
   "metadata": {},
   "source": [
    "Example\n",
    "This example returns the items from the beginning to, but NOT included, \"kiwi\":"
   ]
  },
  {
   "cell_type": "code",
   "execution_count": 20,
   "id": "9e741587",
   "metadata": {},
   "outputs": [
    {
     "name": "stdout",
     "output_type": "stream",
     "text": [
      "('apple', 'banana', 'cherry', 'orange')\n"
     ]
    }
   ],
   "source": [
    "thistuple = (\"apple\", \"banana\", \"cherry\", \"orange\", \"kiwi\", \"melon\", \"mango\")\n",
    "print(thistuple[:4])"
   ]
  },
  {
   "cell_type": "markdown",
   "id": "c692e756",
   "metadata": {},
   "source": [
    "Example\n",
    "This example returns the items from \"cherry\" and to the end:"
   ]
  },
  {
   "cell_type": "code",
   "execution_count": 21,
   "id": "e4f7d56c",
   "metadata": {},
   "outputs": [
    {
     "name": "stdout",
     "output_type": "stream",
     "text": [
      "('cherry', 'orange', 'kiwi', 'melon', 'mango')\n"
     ]
    }
   ],
   "source": [
    "thistuple = (\"apple\", \"banana\", \"cherry\", \"orange\", \"kiwi\", \"melon\", \"mango\")\n",
    "print(thistuple[2:])"
   ]
  },
  {
   "cell_type": "markdown",
   "id": "e200b094",
   "metadata": {},
   "source": [
    "# Range of Negative Indexes\n",
    "Specify negative indexes if you want to start the search from the end of the tuple:\n",
    "\n",
    "Example\n",
    "This example returns the items from index -4 (included) to index -1 (excluded)"
   ]
  },
  {
   "cell_type": "code",
   "execution_count": 22,
   "id": "2432c840",
   "metadata": {},
   "outputs": [
    {
     "name": "stdout",
     "output_type": "stream",
     "text": [
      "('orange', 'kiwi', 'melon')\n"
     ]
    }
   ],
   "source": [
    "thistuple = (\"apple\", \"banana\", \"cherry\", \"orange\", \"kiwi\", \"melon\", \"mango\")\n",
    "print(thistuple[-4:-1])"
   ]
  },
  {
   "cell_type": "markdown",
   "id": "08fba103",
   "metadata": {},
   "source": [
    "# Check if Item Exists\n",
    "To determine if a specified item is present in a tuple use the in keyword:\n",
    "\n",
    "Example\n",
    "Check if \"apple\" is present in the tuple:"
   ]
  },
  {
   "cell_type": "code",
   "execution_count": 23,
   "id": "8d7a9ea2",
   "metadata": {},
   "outputs": [
    {
     "name": "stdout",
     "output_type": "stream",
     "text": [
      "Yes,'apple' is in the fruit tuple\n"
     ]
    }
   ],
   "source": [
    "thistuple=(\"apple\",\"banana\",\"cherry\")\n",
    "if \"apple\" in thistuple:\n",
    "    print(\"Yes,'apple' is in the fruit tuple\")"
   ]
  },
  {
   "cell_type": "code",
   "execution_count": null,
   "id": "846837ae",
   "metadata": {},
   "outputs": [],
   "source": []
  },
  {
   "cell_type": "code",
   "execution_count": null,
   "id": "6136c7f6",
   "metadata": {},
   "outputs": [],
   "source": []
  },
  {
   "cell_type": "markdown",
   "id": "75cf8f33",
   "metadata": {},
   "source": [
    "# Python - Update Tuples\n",
    "Tuples are unchangeable, meaning that you cannot change, add, or remove items once the tuple is created.\n",
    "\n",
    "But there are some workarounds.\n",
    "\n",
    "Change Tuple Values\n",
    "Once a tuple is created, you cannot change its values. Tuples are unchangeable, or immutable as it also is called.\n",
    "\n",
    "But there is a workaround. You can convert the tuple into a list, change the list, and convert the list back into a tuple."
   ]
  },
  {
   "cell_type": "markdown",
   "id": "f2dfc15c",
   "metadata": {},
   "source": [
    "Example\n",
    "Convert the tuple into a list to be able to change it:"
   ]
  },
  {
   "cell_type": "code",
   "execution_count": 26,
   "id": "3230fe1f",
   "metadata": {},
   "outputs": [
    {
     "name": "stdout",
     "output_type": "stream",
     "text": [
      "('apple', 'kiwi', 'cherry')\n",
      "<class 'tuple'>\n",
      "<class 'list'>\n"
     ]
    }
   ],
   "source": [
    "x=(\"apple\",\"banana\",\"cherry\")\n",
    "y=list(x)\n",
    "y[1]=\"kiwi\"\n",
    "x=tuple(y)\n",
    "print(x)\n",
    "print(type(x))\n",
    "print(type(y))"
   ]
  },
  {
   "cell_type": "markdown",
   "id": "545a6dc6",
   "metadata": {},
   "source": [
    "# Add Items\n",
    "Since tuples are immutable, they do not have a build-in append() method, but there are other ways to add items to a tuple.\n",
    "\n",
    "1. Convert into a list: Just like the workaround for changing a tuple, you can convert it into a list, add your item(s), and convert it back into a tuple.\n",
    "\n",
    "Example\n",
    "Convert the tuple into a list, add \"orange\", and convert it back into a tuple:"
   ]
  },
  {
   "cell_type": "code",
   "execution_count": 28,
   "id": "3e51370f",
   "metadata": {},
   "outputs": [
    {
     "name": "stdout",
     "output_type": "stream",
     "text": [
      "('apple', 'banana', 'cherry', 'orange')\n"
     ]
    }
   ],
   "source": [
    "thistuple=(\"apple\",\"banana\",\"cherry\")\n",
    "y=list(thistuple)\n",
    "y.append(\"orange\")\n",
    "thistuple=tuple(y)\n",
    "print(tuple(y))"
   ]
  },
  {
   "cell_type": "markdown",
   "id": "1ee6f018",
   "metadata": {},
   "source": [
    "2. Add tuple to a tuple. You are allowed to add tuples to tuples, so if you want to add one item, (or many), create a new tuple with the item(s), and add it to the existing tuple:\n",
    "\n",
    "Example\n",
    "Create a new tuple with the value \"orange\", and add that tuple:"
   ]
  },
  {
   "cell_type": "code",
   "execution_count": 31,
   "id": "78e5941e",
   "metadata": {},
   "outputs": [
    {
     "name": "stdout",
     "output_type": "stream",
     "text": [
      "('apple', 'banana', 'cherry', 'orange')\n"
     ]
    }
   ],
   "source": [
    "thistuple = (\"apple\", \"banana\", \"cherry\")\n",
    "y = (\"orange\",)\n",
    "thistuple += y\n",
    "\n",
    "print(thistuple)\n",
    "# Note: When creating a tuple with only one item, remember to include \n",
    "#a comma after the item, otherwise it will not be identified as a tuple."
   ]
  },
  {
   "cell_type": "markdown",
   "id": "7b14fd48",
   "metadata": {},
   "source": [
    "# Remove Items\n",
    "Note: You cannot remove items in a tuple.\n",
    "\n",
    "Tuples are unchangeable, so you cannot remove items from it, but you can use the same workaround as we used for changing and adding tuple items:\n",
    "\n",
    "Example\n",
    "Convert the tuple into a list, remove \"apple\", and convert it back into a tuple:"
   ]
  },
  {
   "cell_type": "code",
   "execution_count": 33,
   "id": "c89cc53d",
   "metadata": {},
   "outputs": [
    {
     "name": "stdout",
     "output_type": "stream",
     "text": [
      "('banana', 'cherry')\n"
     ]
    }
   ],
   "source": [
    "thistuple = (\"apple\", \"banana\", \"cherry\")\n",
    "y = list(thistuple)\n",
    "y.remove(\"apple\")\n",
    "thistuple = tuple(y)\n",
    "print(thistuple)"
   ]
  },
  {
   "cell_type": "markdown",
   "id": "727503de",
   "metadata": {},
   "source": [
    "# Or you can delete the tuple completely:\n",
    "\n",
    "Example\n",
    "The del keyword can delete the tuple completely:"
   ]
  },
  {
   "cell_type": "code",
   "execution_count": 34,
   "id": "7accb6ee",
   "metadata": {},
   "outputs": [
    {
     "ename": "NameError",
     "evalue": "name 'thistuple' is not defined",
     "output_type": "error",
     "traceback": [
      "\u001b[1;31m---------------------------------------------------------------------------\u001b[0m",
      "\u001b[1;31mNameError\u001b[0m                                 Traceback (most recent call last)",
      "\u001b[1;32m<ipython-input-34-8a57ed92fc5d>\u001b[0m in \u001b[0;36m<module>\u001b[1;34m\u001b[0m\n\u001b[0;32m      1\u001b[0m \u001b[0mthistuple\u001b[0m \u001b[1;33m=\u001b[0m \u001b[1;33m(\u001b[0m\u001b[1;34m\"apple\"\u001b[0m\u001b[1;33m,\u001b[0m \u001b[1;34m\"banana\"\u001b[0m\u001b[1;33m,\u001b[0m \u001b[1;34m\"cherry\"\u001b[0m\u001b[1;33m)\u001b[0m\u001b[1;33m\u001b[0m\u001b[1;33m\u001b[0m\u001b[0m\n\u001b[0;32m      2\u001b[0m \u001b[1;32mdel\u001b[0m \u001b[0mthistuple\u001b[0m\u001b[1;33m\u001b[0m\u001b[1;33m\u001b[0m\u001b[0m\n\u001b[1;32m----> 3\u001b[1;33m \u001b[0mprint\u001b[0m\u001b[1;33m(\u001b[0m\u001b[0mthistuple\u001b[0m\u001b[1;33m)\u001b[0m \u001b[1;31m#this will raise an error because the tuple no longer exists\u001b[0m\u001b[1;33m\u001b[0m\u001b[1;33m\u001b[0m\u001b[0m\n\u001b[0m",
      "\u001b[1;31mNameError\u001b[0m: name 'thistuple' is not defined"
     ]
    }
   ],
   "source": [
    "thistuple = (\"apple\", \"banana\", \"cherry\")\n",
    "del thistuple\n",
    "print(thistuple) #this will raise an error because the tuple no longer exists"
   ]
  },
  {
   "cell_type": "markdown",
   "id": "a19abc8f",
   "metadata": {},
   "source": [
    "# Python - Unpack Tuples\n",
    "Unpacking a Tuple\n",
    "When we create a tuple, we normally assign values to it. This is called \"packing\" a tuple:\n",
    "\n",
    "Example\n",
    "Packing a tuple:"
   ]
  },
  {
   "cell_type": "code",
   "execution_count": 35,
   "id": "34a940da",
   "metadata": {},
   "outputs": [],
   "source": [
    "fruits=(\"apple\",\"banana\",\"cherry\")"
   ]
  },
  {
   "cell_type": "markdown",
   "id": "21e96621",
   "metadata": {},
   "source": [
    "But, in Python, we are also allowed to extract the values back into variables. This is called \"unpacking\":\n",
    "\n",
    "Example\n",
    "Unpacking a tuple:"
   ]
  },
  {
   "cell_type": "code",
   "execution_count": 36,
   "id": "effae99b",
   "metadata": {},
   "outputs": [
    {
     "name": "stdout",
     "output_type": "stream",
     "text": [
      "apple\n",
      "banana\n",
      "cherry\n"
     ]
    }
   ],
   "source": [
    "fruits = (\"apple\", \"banana\", \"cherry\")\n",
    "\n",
    "(green, yellow, red) = fruits\n",
    "\n",
    "print(green)\n",
    "print(yellow)\n",
    "print(red)"
   ]
  },
  {
   "cell_type": "markdown",
   "id": "e0e1135b",
   "metadata": {},
   "source": [
    "Note: The number of variables must match the number of values in the tuple, if not, you must use an asterisk to collect the remaining values as a list."
   ]
  },
  {
   "cell_type": "markdown",
   "id": "cfed85cb",
   "metadata": {},
   "source": [
    "# Using Asterisk*\n",
    "If the number of variables is less than the number of values, you can add an * to the variable name and the values will be assigned to the variable as a list:\n",
    "\n",
    "Example\n",
    "Assign the rest of the values as a list called \"red\":"
   ]
  },
  {
   "cell_type": "code",
   "execution_count": 37,
   "id": "882e5f87",
   "metadata": {},
   "outputs": [
    {
     "name": "stdout",
     "output_type": "stream",
     "text": [
      "apple\n",
      "banana\n",
      "['cherry', 'strawberry', 'raspberry']\n"
     ]
    }
   ],
   "source": [
    "fruits = (\"apple\", \"banana\", \"cherry\", \"strawberry\", \"raspberry\")\n",
    "\n",
    "(green, yellow, *red) = fruits\n",
    "\n",
    "print(green)\n",
    "print(yellow)\n",
    "print(red)"
   ]
  },
  {
   "cell_type": "markdown",
   "id": "026dde4e",
   "metadata": {},
   "source": [
    "If the asterisk is added to another variable name than the last, Python will assign values to the variable until the number of values left matches the number of variables left."
   ]
  },
  {
   "cell_type": "markdown",
   "id": "efe594ed",
   "metadata": {},
   "source": [
    "Example\n",
    "Add a list of values the \"tropic\" variable:"
   ]
  },
  {
   "cell_type": "code",
   "execution_count": 38,
   "id": "1f8dda2c",
   "metadata": {},
   "outputs": [
    {
     "name": "stdout",
     "output_type": "stream",
     "text": [
      "apple\n",
      "['mango', 'papaya', 'pineapple']\n",
      "cherry\n"
     ]
    }
   ],
   "source": [
    "fruits = (\"apple\", \"mango\", \"papaya\", \"pineapple\", \"cherry\")\n",
    "\n",
    "(green, *tropic, red) = fruits\n",
    "\n",
    "print(green)\n",
    "print(tropic)\n",
    "print(red)"
   ]
  },
  {
   "cell_type": "markdown",
   "id": "07865212",
   "metadata": {},
   "source": [
    "# Python - Loop Tuples\n",
    "Loop Through a Tuple\n",
    "You can loop through the tuple items by using a for loop.\n",
    "\n",
    "Example\n",
    "Iterate through the items and print the values:"
   ]
  },
  {
   "cell_type": "code",
   "execution_count": 3,
   "id": "273f1be8",
   "metadata": {},
   "outputs": [
    {
     "name": "stdout",
     "output_type": "stream",
     "text": [
      "apple\n",
      "banana\n",
      "cherry\n"
     ]
    }
   ],
   "source": [
    "thistuple=(\"apple\",\"banana\",\"cherry\")\n",
    "for x in thistuple:\n",
    "    print(x)\n",
    "# Learn more about for loops in our Python For Loops Chapter."
   ]
  },
  {
   "cell_type": "markdown",
   "id": "793bee1c",
   "metadata": {},
   "source": [
    "# Loop Through the Index Numbers\n",
    "You can also loop through the tuple items by referring to their index number.\n",
    "\n",
    "Use the range() and len() functions to create a suitable iterable.\n",
    "\n",
    "Example\n",
    "Print all items by referring to their index number:"
   ]
  },
  {
   "cell_type": "code",
   "execution_count": 5,
   "id": "3472b68e",
   "metadata": {},
   "outputs": [
    {
     "name": "stdout",
     "output_type": "stream",
     "text": [
      "apple\n",
      "banana\n",
      "cherry\n"
     ]
    }
   ],
   "source": [
    "thistuple=(\"apple\",\"banana\",\"cherry\")\n",
    "for i in range(len(thistuple)):\n",
    "    print(thistuple[i])"
   ]
  },
  {
   "cell_type": "markdown",
   "id": "60a3fb0c",
   "metadata": {},
   "source": [
    "# Using a While Loop\n",
    "You can loop through the list items by using a while loop.\n",
    "\n",
    "Use the len() function to determine the length of the tuple, then start at 0 and loop your way through the tuple items by refering to their indexes.\n",
    "\n",
    "Remember to increase the index by 1 after each iteration.\n",
    "\n",
    "Example\n",
    "Print all items, using a while loop to go through all the index numbers:"
   ]
  },
  {
   "cell_type": "code",
   "execution_count": 7,
   "id": "a6f1778b",
   "metadata": {},
   "outputs": [
    {
     "name": "stdout",
     "output_type": "stream",
     "text": [
      "apple\n",
      "banana\n",
      "cherry\n"
     ]
    }
   ],
   "source": [
    "thistuple=(\"apple\",\"banana\",\"cherry\")\n",
    "i=0\n",
    "while i<len(thistuple):\n",
    "    print(thistuple[i])\n",
    "    i=i+1"
   ]
  },
  {
   "cell_type": "markdown",
   "id": "64c8cda9",
   "metadata": {},
   "source": [
    "# Python - Join Tuples\n",
    "Join Two Tuples\n",
    "To join two or more tuples you can use the + operator:"
   ]
  },
  {
   "cell_type": "code",
   "execution_count": 8,
   "id": "86392947",
   "metadata": {},
   "outputs": [
    {
     "name": "stdout",
     "output_type": "stream",
     "text": [
      "('a', 'b', 'c', 1, 2, 3)\n"
     ]
    }
   ],
   "source": [
    "tuple1=(\"a\",\"b\",\"c\")\n",
    "tuple2=(1,2,3)\n",
    "\n",
    "tuple3=tuple1+tuple2\n",
    "print(tuple3)"
   ]
  },
  {
   "cell_type": "markdown",
   "id": "5365cd44",
   "metadata": {},
   "source": [
    "# Multiply Tuples\n",
    "If you want to multiply the content of a tuple a given number of times, you can use the * operator:\n",
    "\n",
    "Example\n",
    "Multiply the fruits tuple by 2:"
   ]
  },
  {
   "cell_type": "code",
   "execution_count": 9,
   "id": "8337eaf1",
   "metadata": {},
   "outputs": [
    {
     "name": "stdout",
     "output_type": "stream",
     "text": [
      "('apple', 'banana', 'cherry', 'apple', 'banana', 'cherry')\n"
     ]
    }
   ],
   "source": [
    "fruits=(\"apple\",\"banana\",\"cherry\")\n",
    "mytuple=fruits*2\n",
    "print(mytuple)"
   ]
  },
  {
   "cell_type": "markdown",
   "id": "c7fbf1db",
   "metadata": {},
   "source": [
    "# Python - Tuple Methods\n",
    "Tuple Methods\n",
    "Python has two built-in methods that you can use on tuples.\n",
    "\n",
    "Method\tDescription\n",
    "count()\tReturns the number of times a specified value occurs in a tuple\n",
    "index()\tSearches the tuple for a specified value and returns the position of where it was found"
   ]
  },
  {
   "cell_type": "code",
   "execution_count": null,
   "id": "486dee92",
   "metadata": {},
   "outputs": [],
   "source": []
  }
 ],
 "metadata": {
  "kernelspec": {
   "display_name": "Python 3",
   "language": "python",
   "name": "python3"
  },
  "language_info": {
   "codemirror_mode": {
    "name": "ipython",
    "version": 3
   },
   "file_extension": ".py",
   "mimetype": "text/x-python",
   "name": "python",
   "nbconvert_exporter": "python",
   "pygments_lexer": "ipython3",
   "version": "3.8.8"
  }
 },
 "nbformat": 4,
 "nbformat_minor": 5
}
