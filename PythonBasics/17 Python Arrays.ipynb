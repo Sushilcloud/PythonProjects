{
 "cells": [
  {
   "cell_type": "markdown",
   "id": "9842cd81",
   "metadata": {},
   "source": [
    "# Python Arrays"
   ]
  },
  {
   "cell_type": "code",
   "execution_count": 1,
   "id": "c22566c4",
   "metadata": {},
   "outputs": [],
   "source": [
    "# Note: Python does not have built-in support for Arrays, but Python Lists can be used instead."
   ]
  },
  {
   "cell_type": "markdown",
   "id": "d9d724cc",
   "metadata": {},
   "source": [
    "# Arrays\n",
    "Note: This page shows you how to use LISTS as ARRAYS, however, to work with arrays in Python you will have to import a library, like the NumPy library.\n",
    "\n",
    "Arrays are used to store multiple values in one single variable:\n",
    "\n",
    "Example\n",
    "Create an array containing car names:"
   ]
  },
  {
   "cell_type": "code",
   "execution_count": 2,
   "id": "56976340",
   "metadata": {},
   "outputs": [
    {
     "name": "stdout",
     "output_type": "stream",
     "text": [
      "['ford', 'volvo', 'BMW']\n"
     ]
    }
   ],
   "source": [
    "cars=[\"ford\",\"volvo\",\"BMW\"]\n",
    "print(cars)"
   ]
  },
  {
   "cell_type": "markdown",
   "id": "ce82fbac",
   "metadata": {},
   "source": [
    "# What is an Array?\n",
    "An array is a special variable, which can hold more than one value at a time.\n",
    "\n",
    "If you have a list of items (a list of car names, for example), storing the cars in single variables could look like this:"
   ]
  },
  {
   "cell_type": "code",
   "execution_count": 3,
   "id": "159eada9",
   "metadata": {},
   "outputs": [],
   "source": [
    "car1 = \"Ford\"\n",
    "car2 = \"Volvo\"\n",
    "car3 = \"BMW\""
   ]
  },
  {
   "cell_type": "markdown",
   "id": "bf75a11f",
   "metadata": {},
   "source": [
    "However, what if you want to loop through the cars and find a specific one? And what if you had not 3 cars, but 300?\n",
    "\n",
    "The solution is an array!\n",
    "\n",
    "An array can hold many values under a single name, and you can access the values by referring to an index number."
   ]
  },
  {
   "cell_type": "markdown",
   "id": "0ab869e7",
   "metadata": {},
   "source": [
    "# Access the Elements of an Array\n",
    "You refer to an array element by referring to the index number.\n",
    "\n",
    "Example"
   ]
  },
  {
   "cell_type": "code",
   "execution_count": 4,
   "id": "7e1363d9",
   "metadata": {},
   "outputs": [],
   "source": [
    "# Get the value of the first array item:\n",
    "x=cars[0]"
   ]
  },
  {
   "cell_type": "markdown",
   "id": "c4b647c3",
   "metadata": {},
   "source": [
    "Example\n",
    "Modify the value of the first array item:"
   ]
  },
  {
   "cell_type": "code",
   "execution_count": 5,
   "id": "41fc75f7",
   "metadata": {},
   "outputs": [],
   "source": [
    "cars[0]=\"toyota\""
   ]
  },
  {
   "cell_type": "markdown",
   "id": "af233dac",
   "metadata": {},
   "source": [
    "# The Length of an Array\n",
    "Use the len() method to return the length of an array (the number of elements in an array).\n",
    "\n",
    "Example\n",
    "Return the number of elements in the cars array:"
   ]
  },
  {
   "cell_type": "code",
   "execution_count": 6,
   "id": "ee9019f1",
   "metadata": {},
   "outputs": [],
   "source": [
    "x = len(cars)"
   ]
  },
  {
   "cell_type": "code",
   "execution_count": 7,
   "id": "fc21cb83",
   "metadata": {},
   "outputs": [],
   "source": [
    "# Note: The length of an array is always one more than the highest array index."
   ]
  },
  {
   "cell_type": "markdown",
   "id": "b2bd30e0",
   "metadata": {},
   "source": [
    "# Looping Array Elements\n",
    "You can use the for in loop to loop through all the elements of an array.\n",
    "\n",
    "Example\n",
    "Print each item in the cars array:"
   ]
  },
  {
   "cell_type": "code",
   "execution_count": 8,
   "id": "c5ce1a10",
   "metadata": {},
   "outputs": [
    {
     "name": "stdout",
     "output_type": "stream",
     "text": [
      "toyota\n",
      "volvo\n",
      "BMW\n"
     ]
    }
   ],
   "source": [
    "for x in cars:\n",
    "  print(x)"
   ]
  },
  {
   "cell_type": "markdown",
   "id": "77885368",
   "metadata": {},
   "source": [
    "# Adding Array Elements\n",
    "You can use the append() method to add an element to an array.\n",
    "\n",
    "Example\n",
    "Add one more element to the cars array:"
   ]
  },
  {
   "cell_type": "code",
   "execution_count": 9,
   "id": "34f052c5",
   "metadata": {},
   "outputs": [],
   "source": [
    "cars.append(\"Honda\")"
   ]
  },
  {
   "cell_type": "markdown",
   "id": "d48f89b1",
   "metadata": {},
   "source": [
    "# Removing Array Elements\n",
    "You can use the pop() method to remove an element from the array.\n",
    "\n",
    "Example\n",
    "Delete the second element of the cars array:"
   ]
  },
  {
   "cell_type": "code",
   "execution_count": 10,
   "id": "0076a440",
   "metadata": {},
   "outputs": [
    {
     "data": {
      "text/plain": [
       "'volvo'"
      ]
     },
     "execution_count": 10,
     "metadata": {},
     "output_type": "execute_result"
    }
   ],
   "source": [
    "cars.pop(1)"
   ]
  },
  {
   "cell_type": "code",
   "execution_count": 11,
   "id": "b339e49e",
   "metadata": {},
   "outputs": [],
   "source": [
    "# You can also use the remove() method to remove an element from the array."
   ]
  },
  {
   "cell_type": "markdown",
   "id": "45f2d90d",
   "metadata": {},
   "source": [
    "Example\n",
    "Delete the element that has the value \"Volvo\":"
   ]
  },
  {
   "cell_type": "code",
   "execution_count": 12,
   "id": "e5825c27",
   "metadata": {},
   "outputs": [
    {
     "ename": "ValueError",
     "evalue": "list.remove(x): x not in list",
     "output_type": "error",
     "traceback": [
      "\u001b[1;31m---------------------------------------------------------------------------\u001b[0m",
      "\u001b[1;31mValueError\u001b[0m                                Traceback (most recent call last)",
      "\u001b[1;32m<ipython-input-12-4ef02b8b2f3d>\u001b[0m in \u001b[0;36m<module>\u001b[1;34m\u001b[0m\n\u001b[1;32m----> 1\u001b[1;33m \u001b[0mcars\u001b[0m\u001b[1;33m.\u001b[0m\u001b[0mremove\u001b[0m\u001b[1;33m(\u001b[0m\u001b[1;34m\"Volvo\"\u001b[0m\u001b[1;33m)\u001b[0m\u001b[1;33m\u001b[0m\u001b[1;33m\u001b[0m\u001b[0m\n\u001b[0m",
      "\u001b[1;31mValueError\u001b[0m: list.remove(x): x not in list"
     ]
    }
   ],
   "source": [
    "cars.remove(\"Volvo\")"
   ]
  },
  {
   "cell_type": "code",
   "execution_count": 13,
   "id": "ace72250",
   "metadata": {},
   "outputs": [],
   "source": [
    "# Note: The list's remove() method only removes the first occurrence of the specified value."
   ]
  },
  {
   "cell_type": "raw",
   "id": "be278dbd",
   "metadata": {},
   "source": [
    "Array Methods\n",
    "Python has a set of built-in methods that you can use on lists/arrays.\n",
    "\n",
    "Method\tDescription\n",
    "append()\tAdds an element at the end of the list\n",
    "clear()\tRemoves all the elements from the list\n",
    "copy()\tReturns a copy of the list\n",
    "count()\tReturns the number of elements with the specified value\n",
    "extend()\tAdd the elements of a list (or any iterable), to the end of the current list\n",
    "index()\tReturns the index of the first element with the specified value\n",
    "insert()\tAdds an element at the specified position\n",
    "pop()\tRemoves the element at the specified position\n",
    "remove()\tRemoves the first item with the specified value\n",
    "reverse()\tReverses the order of the list\n",
    "sort()\tSorts the list\n",
    "Note: Python does not have built-in support for Arrays, but Python Lists can be used instead."
   ]
  },
  {
   "cell_type": "code",
   "execution_count": null,
   "id": "6c8bf73b",
   "metadata": {},
   "outputs": [],
   "source": []
  }
 ],
 "metadata": {
  "kernelspec": {
   "display_name": "Python 3",
   "language": "python",
   "name": "python3"
  },
  "language_info": {
   "codemirror_mode": {
    "name": "ipython",
    "version": 3
   },
   "file_extension": ".py",
   "mimetype": "text/x-python",
   "name": "python",
   "nbconvert_exporter": "python",
   "pygments_lexer": "ipython3",
   "version": "3.8.8"
  }
 },
 "nbformat": 4,
 "nbformat_minor": 5
}
