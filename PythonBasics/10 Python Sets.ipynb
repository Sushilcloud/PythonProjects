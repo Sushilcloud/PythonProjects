{
 "cells": [
  {
   "cell_type": "code",
   "execution_count": 1,
   "id": "d6ba717e",
   "metadata": {},
   "outputs": [],
   "source": [
    "myset = {\"apple\", \"banana\", \"cherry\"}"
   ]
  },
  {
   "cell_type": "code",
   "execution_count": 2,
   "id": "fd4b1758",
   "metadata": {},
   "outputs": [
    {
     "name": "stdout",
     "output_type": "stream",
     "text": [
      "{'apple', 'banana', 'cherry'}\n"
     ]
    }
   ],
   "source": [
    "print(myset)"
   ]
  },
  {
   "cell_type": "markdown",
   "id": "a054e84e",
   "metadata": {},
   "source": [
    "# Set\n",
    "Sets are used to store multiple items in a single variable.\n",
    "\n",
    "Set is one of 4 built-in data types in Python used to store collections of data, the other 3 are List, Tuple, and Dictionary, all with different qualities and usage.\n",
    "\n",
    "A set is a collection which is both unordered and unindexed.\n",
    "\n",
    "Sets are written with curly brackets."
   ]
  },
  {
   "cell_type": "markdown",
   "id": "63b51915",
   "metadata": {},
   "source": [
    "# Example\n",
    "Create a Set:"
   ]
  },
  {
   "cell_type": "code",
   "execution_count": 4,
   "id": "37f78a1e",
   "metadata": {},
   "outputs": [
    {
     "name": "stdout",
     "output_type": "stream",
     "text": [
      "{'apple', 'banana', 'cherry'}\n"
     ]
    }
   ],
   "source": [
    "thisset = {\"apple\", \"banana\", \"cherry\"}\n",
    "print(thisset)\n",
    "# Note: Sets are unordered, so you cannot be sure in which order the items will appear."
   ]
  },
  {
   "cell_type": "markdown",
   "id": "91f15836",
   "metadata": {},
   "source": [
    "# Set Items\n",
    "Set items are unordered, unchangeable, and do not allow duplicate values.\n",
    "\n",
    "Unordered\n",
    "Unordered means that the items in a set do not have a defined order.\n",
    "\n",
    "Set items can appear in a different order every time you use them, and cannot be referred to by index or key.\n",
    "\n",
    "Unchangeable\n",
    "Sets are unchangeable, meaning that we cannot change the items after the set has been created.\n",
    "\n",
    "Once a set is created, you cannot change its items, but you can add new items.\n",
    "\n",
    "Duplicates Not Allowed\n",
    "Sets cannot have two items with the same value.\n",
    "\n",
    "Example\n",
    "Duplicate values will be ignored:"
   ]
  },
  {
   "cell_type": "code",
   "execution_count": 5,
   "id": "6ed05061",
   "metadata": {},
   "outputs": [
    {
     "name": "stdout",
     "output_type": "stream",
     "text": [
      "{'apple', 'banana', 'cherry'}\n"
     ]
    }
   ],
   "source": [
    "thisset={\"apple\",\"banana\",\"cherry\",\"apple\"}\n",
    "print(thisset)\n",
    "# duplicate item not allowed"
   ]
  },
  {
   "cell_type": "markdown",
   "id": "fc08b2a7",
   "metadata": {},
   "source": [
    "# Get the Length of a Set\n",
    "To determine how many items a set has, use the len() method.\n",
    "\n",
    "Example\n",
    "Get the number of items in a set:"
   ]
  },
  {
   "cell_type": "code",
   "execution_count": 6,
   "id": "865495cb",
   "metadata": {},
   "outputs": [
    {
     "name": "stdout",
     "output_type": "stream",
     "text": [
      "3\n"
     ]
    }
   ],
   "source": [
    "thisset={\"apple\",\"banana\",\"cherry\"}\n",
    "print(len(thisset))"
   ]
  },
  {
   "cell_type": "markdown",
   "id": "5389eefb",
   "metadata": {},
   "source": [
    "# Set Items - Data Types\n",
    "Set items can be of any data type:\n",
    "\n",
    "Example\n",
    "String, int and boolean data types:"
   ]
  },
  {
   "cell_type": "code",
   "execution_count": 7,
   "id": "ee64faee",
   "metadata": {},
   "outputs": [],
   "source": [
    "set1={\"apple\",\"banana\",\"cherry\"}\n",
    "set2={1,2,3,4,5}\n",
    "set3={True,False,False}"
   ]
  },
  {
   "cell_type": "code",
   "execution_count": 10,
   "id": "470dd27e",
   "metadata": {},
   "outputs": [
    {
     "name": "stdout",
     "output_type": "stream",
     "text": [
      "{'apple', 'banana', 'cherry'}\n",
      "{1, 2, 3, 4, 5}\n",
      "{False, True}\n"
     ]
    }
   ],
   "source": [
    "print(set1)\n",
    "print(set2)\n",
    "print(set3)\n",
    "# A set can contain different data types:"
   ]
  },
  {
   "cell_type": "markdown",
   "id": "5014d7c7",
   "metadata": {},
   "source": [
    "Example\n",
    "A set with strings, integers and boolean values:"
   ]
  },
  {
   "cell_type": "code",
   "execution_count": 11,
   "id": "edb8cc3e",
   "metadata": {},
   "outputs": [],
   "source": [
    "set1={\"apple\",\"green\",34,True}"
   ]
  },
  {
   "cell_type": "code",
   "execution_count": 12,
   "id": "abfeccfc",
   "metadata": {},
   "outputs": [
    {
     "name": "stdout",
     "output_type": "stream",
     "text": [
      "{'green', True, 'apple', 34}\n"
     ]
    }
   ],
   "source": [
    "print(set1)"
   ]
  },
  {
   "cell_type": "markdown",
   "id": "3d0f3cc2",
   "metadata": {},
   "source": [
    "# type()\n",
    "From Python's perspective, sets are defined as objects with the data type 'set':"
   ]
  },
  {
   "cell_type": "markdown",
   "id": "703d6a8d",
   "metadata": {},
   "source": [
    "Example\n",
    "What is the data type of a set?"
   ]
  },
  {
   "cell_type": "code",
   "execution_count": 13,
   "id": "27aed06a",
   "metadata": {},
   "outputs": [
    {
     "name": "stdout",
     "output_type": "stream",
     "text": [
      "<class 'set'>\n"
     ]
    }
   ],
   "source": [
    "myset={\"apple\",\"mango\",\"cherry\"}\n",
    "print(type(myset))"
   ]
  },
  {
   "cell_type": "markdown",
   "id": "9c9c601d",
   "metadata": {},
   "source": [
    "# The set() Constructor\n",
    "It is also possible to use the set() constructor to make a set.\n",
    "\n",
    "Example\n",
    "Using the set() constructor to make a set:"
   ]
  },
  {
   "cell_type": "code",
   "execution_count": 14,
   "id": "f23be706",
   "metadata": {},
   "outputs": [
    {
     "name": "stdout",
     "output_type": "stream",
     "text": [
      "{'apple', 'banana', 'cherry'}\n"
     ]
    }
   ],
   "source": [
    "thisset = set((\"apple\", \"banana\", \"cherry\")) # note the double round-brackets\n",
    "print(thisset)"
   ]
  },
  {
   "cell_type": "raw",
   "id": "4a07901c",
   "metadata": {},
   "source": [
    "Python Collections (Arrays)\n",
    "There are four collection data types in the Python programming language:\n",
    "\n",
    "List is a collection which is ordered and changeable. Allows duplicate members.\n",
    "Tuple is a collection which is ordered and unchangeable. Allows duplicate members.\n",
    "Set is a collection which is unordered and unindexed. No duplicate members.\n",
    "Dictionary is a collection which is ordered* and changeable. No duplicate members."
   ]
  },
  {
   "cell_type": "code",
   "execution_count": null,
   "id": "7a7ff41e",
   "metadata": {},
   "outputs": [],
   "source": []
  },
  {
   "cell_type": "markdown",
   "id": "b8863b2a",
   "metadata": {},
   "source": [
    "# Python - Access Set Items\n",
    "Access Items\n",
    "You cannot access items in a set by referring to an index or a key.\n",
    "\n",
    "But you can loop through the set items using a for loop, or ask if a specified value is present in a set, by using the in keyword."
   ]
  },
  {
   "cell_type": "markdown",
   "id": "0765b4eb",
   "metadata": {},
   "source": [
    "Example\n",
    "Loop through the set, and print the values:"
   ]
  },
  {
   "cell_type": "code",
   "execution_count": 15,
   "id": "cb1c9bd0",
   "metadata": {},
   "outputs": [
    {
     "name": "stdout",
     "output_type": "stream",
     "text": [
      "apple\n",
      "banana\n",
      "cherry\n"
     ]
    }
   ],
   "source": [
    "thisset={\"apple\",\"banana\",\"cherry\"}\n",
    "for x in thisset:\n",
    "    print(x)"
   ]
  },
  {
   "cell_type": "markdown",
   "id": "68a6f9a5",
   "metadata": {},
   "source": [
    "Example\n",
    "Check if \"banana\" is present in the set:"
   ]
  },
  {
   "cell_type": "code",
   "execution_count": 17,
   "id": "c5f4b8cd",
   "metadata": {},
   "outputs": [
    {
     "name": "stdout",
     "output_type": "stream",
     "text": [
      "True\n"
     ]
    }
   ],
   "source": [
    "thisset={\"apple\",\"banana\",\"cherry\"}\n",
    "print(\"banana\" in thisset)"
   ]
  },
  {
   "cell_type": "markdown",
   "id": "eb2162c8",
   "metadata": {},
   "source": [
    "# Python - Add Set Items\n",
    "Add Items\n",
    "Once a set is created, you cannot change its items, but you can add new items.\n",
    "\n",
    "To add one item to a set use the add() method."
   ]
  },
  {
   "cell_type": "markdown",
   "id": "99c8a9eb",
   "metadata": {},
   "source": [
    "Example\n",
    "Add an item to a set, using the add() method:"
   ]
  },
  {
   "cell_type": "code",
   "execution_count": 18,
   "id": "f05c2e2d",
   "metadata": {},
   "outputs": [
    {
     "name": "stdout",
     "output_type": "stream",
     "text": [
      "{'apple', 'banana', 'cherry', 'orange'}\n"
     ]
    }
   ],
   "source": [
    "thisset={\"apple\",\"banana\",\"cherry\"}\n",
    "thisset.add(\"orange\")\n",
    "print(thisset)"
   ]
  },
  {
   "cell_type": "markdown",
   "id": "ab345ce3",
   "metadata": {},
   "source": [
    "# Add Sets\n",
    "To add items from another set into the current set, use the update() method.\n",
    "\n",
    "Example\n",
    "Add elements from tropical into thisset:"
   ]
  },
  {
   "cell_type": "code",
   "execution_count": 19,
   "id": "f8e14975",
   "metadata": {},
   "outputs": [
    {
     "name": "stdout",
     "output_type": "stream",
     "text": [
      "{'pineapple', 'apple', 'orange', 'cherry', 'mango', 'banana'}\n"
     ]
    }
   ],
   "source": [
    "thisset={\"apple\",\"banana\",\"cherry\"}\n",
    "tropical={\"pineapple\",\"mango\",\"orange\"}\n",
    "thisset.update(tropical)\n",
    "print(thisset)"
   ]
  },
  {
   "cell_type": "markdown",
   "id": "71a183ac",
   "metadata": {},
   "source": [
    "# Add Any Iterable\n",
    "The object in the update() method does not have to be a set, it can be any iterable object (tuples, lists, dictionaries etc.).\n",
    "\n",
    "Example\n",
    "Add elements of a list to at set:"
   ]
  },
  {
   "cell_type": "code",
   "execution_count": 20,
   "id": "1231d5dc",
   "metadata": {},
   "outputs": [
    {
     "name": "stdout",
     "output_type": "stream",
     "text": [
      "{'apple', 'orange', 'cherry', 'kiwi', 'banana'}\n"
     ]
    }
   ],
   "source": [
    "thisset={\"apple\",\"banana\",\"cherry\"}\n",
    "mylist=[\"kiwi\",\"orange\"]\n",
    "thisset.update(mylist)\n",
    "print(thisset)"
   ]
  },
  {
   "cell_type": "markdown",
   "id": "77d103f6",
   "metadata": {},
   "source": [
    "# Python - Remove Set Items\n",
    "Remove Item\n",
    "To remove an item in a set, use the remove(), or the discard() method.\n",
    "\n",
    "Example\n",
    "Remove \"banana\" by using the remove() method:"
   ]
  },
  {
   "cell_type": "code",
   "execution_count": 21,
   "id": "54d8fdc3",
   "metadata": {},
   "outputs": [
    {
     "name": "stdout",
     "output_type": "stream",
     "text": [
      "{'apple', 'cherry'}\n"
     ]
    }
   ],
   "source": [
    "thisset={\"apple\",\"banana\",\"cherry\"}\n",
    "thisset.remove(\"banana\")\n",
    "print(thisset)"
   ]
  },
  {
   "cell_type": "markdown",
   "id": "6eb9a36e",
   "metadata": {},
   "source": [
    "Example\n",
    "Remove \"banana\" by using the discard() method:"
   ]
  },
  {
   "cell_type": "code",
   "execution_count": 22,
   "id": "6cbb090c",
   "metadata": {},
   "outputs": [
    {
     "name": "stdout",
     "output_type": "stream",
     "text": [
      "{'apple', 'cherry'}\n"
     ]
    }
   ],
   "source": [
    "thisset={\"apple\",\"banana\",\"cherry\"}\n",
    "thisset.discard(\"banana\")\n",
    "print(thisset)"
   ]
  },
  {
   "cell_type": "markdown",
   "id": "5b351ed2",
   "metadata": {},
   "source": [
    "You can also use the pop() method to remove an item, but this method will remove the last item. Remember that sets are unordered, so you will not know what item that gets removed.\n",
    "\n",
    "The return value of the pop() method is the removed item.\n",
    "\n",
    "Example\n",
    "Remove the last item by using the pop() method:"
   ]
  },
  {
   "cell_type": "code",
   "execution_count": 25,
   "id": "e6e48b6c",
   "metadata": {},
   "outputs": [
    {
     "name": "stdout",
     "output_type": "stream",
     "text": [
      "apple\n",
      "{'banana', 'orange'}\n"
     ]
    }
   ],
   "source": [
    "thisset={\"apple\",\"banana\",\"orange\"}\n",
    "x=thisset.pop()\n",
    "print(x)\n",
    "print(thisset)\n",
    "\n",
    "# Note: Sets are unordered, so when using the pop() method, you do not know which item that gets removed."
   ]
  },
  {
   "cell_type": "markdown",
   "id": "308e823b",
   "metadata": {},
   "source": [
    "Example\n",
    "The clear() method empties the set:"
   ]
  },
  {
   "cell_type": "code",
   "execution_count": 26,
   "id": "dea30b02",
   "metadata": {},
   "outputs": [
    {
     "name": "stdout",
     "output_type": "stream",
     "text": [
      "set()\n"
     ]
    }
   ],
   "source": [
    "thisset={\"apple\",\"banana\",\"cherry\"}\n",
    "thisset.clear()\n",
    "print(thisset)"
   ]
  },
  {
   "cell_type": "markdown",
   "id": "b1c0d605",
   "metadata": {},
   "source": [
    "Example\n",
    "The del keyword will delete the set completely:"
   ]
  },
  {
   "cell_type": "code",
   "execution_count": 27,
   "id": "492d5a2c",
   "metadata": {},
   "outputs": [
    {
     "ename": "NameError",
     "evalue": "name 'thisset' is not defined",
     "output_type": "error",
     "traceback": [
      "\u001b[1;31m---------------------------------------------------------------------------\u001b[0m",
      "\u001b[1;31mNameError\u001b[0m                                 Traceback (most recent call last)",
      "\u001b[1;32m<ipython-input-27-195fb746af3d>\u001b[0m in \u001b[0;36m<module>\u001b[1;34m\u001b[0m\n\u001b[0;32m      1\u001b[0m \u001b[0mthisset\u001b[0m\u001b[1;33m=\u001b[0m\u001b[1;33m{\u001b[0m\u001b[1;34m\"apple\"\u001b[0m\u001b[1;33m,\u001b[0m\u001b[1;34m\"banana\"\u001b[0m\u001b[1;33m,\u001b[0m\u001b[1;34m\"cherry\"\u001b[0m\u001b[1;33m}\u001b[0m\u001b[1;33m\u001b[0m\u001b[1;33m\u001b[0m\u001b[0m\n\u001b[0;32m      2\u001b[0m \u001b[1;32mdel\u001b[0m \u001b[0mthisset\u001b[0m\u001b[1;33m\u001b[0m\u001b[1;33m\u001b[0m\u001b[0m\n\u001b[1;32m----> 3\u001b[1;33m \u001b[0mprint\u001b[0m\u001b[1;33m(\u001b[0m\u001b[0mthisset\u001b[0m\u001b[1;33m)\u001b[0m\u001b[1;33m\u001b[0m\u001b[1;33m\u001b[0m\u001b[0m\n\u001b[0m",
      "\u001b[1;31mNameError\u001b[0m: name 'thisset' is not defined"
     ]
    }
   ],
   "source": [
    "thisset={\"apple\",\"banana\",\"cherry\"}\n",
    "del thisset\n",
    "print(thisset)"
   ]
  },
  {
   "cell_type": "markdown",
   "id": "8c973e11",
   "metadata": {},
   "source": [
    "# Python - Loop Sets\n",
    "Loop Items\n",
    "You can loop through the set items by using a for loop:\n",
    "\n",
    "Example\n",
    "Loop through the set, and print the values:"
   ]
  },
  {
   "cell_type": "code",
   "execution_count": 28,
   "id": "e3535ae3",
   "metadata": {},
   "outputs": [
    {
     "name": "stdout",
     "output_type": "stream",
     "text": [
      "apple\n",
      "banana\n",
      "cherry\n"
     ]
    }
   ],
   "source": [
    "thisset = {\"apple\", \"banana\", \"cherry\"}\n",
    "\n",
    "for x in thisset:\n",
    "  print(x)"
   ]
  },
  {
   "cell_type": "markdown",
   "id": "1a976c12",
   "metadata": {},
   "source": [
    "# Python - Join Sets\n",
    "Join Two Sets\n",
    "There are several ways to join two or more sets in Python.\n",
    "\n",
    "You can use the union() method that returns a new set containing all items from both sets, or the update() method that inserts all the items from one set into another:\n",
    "\n",
    "Example\n",
    "The union() method returns a new set with all items from both sets:"
   ]
  },
  {
   "cell_type": "code",
   "execution_count": 32,
   "id": "1e7f7587",
   "metadata": {},
   "outputs": [
    {
     "name": "stdout",
     "output_type": "stream",
     "text": [
      "{'c', 1, 'a', 'b', 2, 3, 'd'}\n"
     ]
    }
   ],
   "source": [
    "set1={\"a\",\"b\",\"c\",\"d\"}\n",
    "set2={1,2,3}\n",
    "set3=set1.union(set2)\n",
    "print(set3)"
   ]
  },
  {
   "cell_type": "markdown",
   "id": "5a45ae24",
   "metadata": {},
   "source": [
    "Example\n",
    "The update() method inserts the items in set2 into set1:"
   ]
  },
  {
   "cell_type": "code",
   "execution_count": 34,
   "id": "9884a7f9",
   "metadata": {},
   "outputs": [
    {
     "name": "stdout",
     "output_type": "stream",
     "text": [
      "{'c', 1, 'a', 'b', 2, 3}\n"
     ]
    }
   ],
   "source": [
    "set1={\"a\",\"b\",\"c\"}\n",
    "set2={1,2,3}\n",
    "set1.update(set2)\n",
    "print(set1)\n",
    "\n",
    "# Note: Both union() and update() will exclude any duplicate items."
   ]
  },
  {
   "cell_type": "markdown",
   "id": "818bc525",
   "metadata": {},
   "source": [
    "# Keep ONLY the Duplicates\n",
    "The intersection_update() method will keep only the items that are present in both sets.\n",
    "\n",
    "Example\n",
    "Keep the items that exist in both set x, and set y:"
   ]
  },
  {
   "cell_type": "code",
   "execution_count": 35,
   "id": "226ba705",
   "metadata": {},
   "outputs": [
    {
     "name": "stdout",
     "output_type": "stream",
     "text": [
      "{'apple'}\n"
     ]
    }
   ],
   "source": [
    "x = {\"apple\", \"banana\", \"cherry\"}\n",
    "y = {\"google\", \"microsoft\", \"apple\"}\n",
    "\n",
    "x.intersection_update(y)\n",
    "\n",
    "print(x)"
   ]
  },
  {
   "cell_type": "markdown",
   "id": "d37944c3",
   "metadata": {},
   "source": [
    "The intersection() method will return a new set, that only contains the items that are present in both sets."
   ]
  },
  {
   "cell_type": "markdown",
   "id": "0af03e2b",
   "metadata": {},
   "source": [
    "Example\n",
    "Return a set that contains the items that exist in both set x, and set y:"
   ]
  },
  {
   "cell_type": "code",
   "execution_count": 36,
   "id": "7c2dd7bb",
   "metadata": {},
   "outputs": [
    {
     "name": "stdout",
     "output_type": "stream",
     "text": [
      "{'apple'}\n"
     ]
    }
   ],
   "source": [
    "x = {\"apple\", \"banana\", \"cherry\"}\n",
    "y = {\"google\", \"microsoft\", \"apple\"}\n",
    "\n",
    "z = x.intersection(y)\n",
    "\n",
    "print(z)"
   ]
  },
  {
   "cell_type": "markdown",
   "id": "cb7f3100",
   "metadata": {},
   "source": [
    "# Keep All, But NOT the Duplicates\n",
    "The symmetric_difference_update() method will keep only the elements that are NOT present in both sets.\n",
    "\n",
    "Example\n",
    "Keep the items that are not present in both sets:"
   ]
  },
  {
   "cell_type": "code",
   "execution_count": 37,
   "id": "03867ed8",
   "metadata": {},
   "outputs": [
    {
     "name": "stdout",
     "output_type": "stream",
     "text": [
      "{'cherry', 'google', 'banana', 'microsoft'}\n"
     ]
    }
   ],
   "source": [
    "x = {\"apple\", \"banana\", \"cherry\"}\n",
    "y = {\"google\", \"microsoft\", \"apple\"}\n",
    "\n",
    "x.symmetric_difference_update(y)\n",
    "\n",
    "print(x)"
   ]
  },
  {
   "cell_type": "code",
   "execution_count": 38,
   "id": "9d0a58b3",
   "metadata": {},
   "outputs": [],
   "source": [
    "# The symmetric_difference() method will return a new set, that contains only the elements that are NOT present in both sets."
   ]
  },
  {
   "cell_type": "markdown",
   "id": "4aba2fb7",
   "metadata": {},
   "source": [
    "Example\n",
    "Return a set that contains all items from both sets, except items that are present in both:"
   ]
  },
  {
   "cell_type": "code",
   "execution_count": 39,
   "id": "9e6956ed",
   "metadata": {},
   "outputs": [
    {
     "name": "stdout",
     "output_type": "stream",
     "text": [
      "{'cherry', 'google', 'banana', 'microsoft'}\n"
     ]
    }
   ],
   "source": [
    "x = {\"apple\", \"banana\", \"cherry\"}\n",
    "y = {\"google\", \"microsoft\", \"apple\"}\n",
    "\n",
    "z = x.symmetric_difference(y)\n",
    "\n",
    "print(z)"
   ]
  },
  {
   "cell_type": "raw",
   "id": "b6d3c695",
   "metadata": {},
   "source": [
    "Python - Set Methods\n",
    "Set Methods\n",
    "Python has a set of built-in methods that you can use on sets.\n",
    "\n",
    "Method\tDescription\n",
    "add()\tAdds an element to the set\n",
    "clear()\tRemoves all the elements from the set\n",
    "copy()\tReturns a copy of the set\n",
    "difference()\tReturns a set containing the difference between two or more sets\n",
    "difference_update()\tRemoves the items in this set that are also included in another, specified set\n",
    "discard()\tRemove the specified item\n",
    "intersection()\tReturns a set, that is the intersection of two other sets\n",
    "intersection_update()\tRemoves the items in this set that are not present in other, specified set(s)\n",
    "isdisjoint()\tReturns whether two sets have a intersection or not\n",
    "issubset()\tReturns whether another set contains this set or not\n",
    "issuperset()\tReturns whether this set contains another set or not\n",
    "pop()\tRemoves an element from the set\n",
    "remove()\tRemoves the specified element\n",
    "symmetric_difference()\tReturns a set with the symmetric differences of two sets\n",
    "symmetric_difference_update()\tinserts the symmetric differences from this set and another\n",
    "union()\tReturn a set containing the union of sets\n",
    "update()\tUpdate the set with the union of this set and others"
   ]
  },
  {
   "cell_type": "code",
   "execution_count": null,
   "id": "24fd5382",
   "metadata": {},
   "outputs": [],
   "source": []
  }
 ],
 "metadata": {
  "kernelspec": {
   "display_name": "Python 3",
   "language": "python",
   "name": "python3"
  },
  "language_info": {
   "codemirror_mode": {
    "name": "ipython",
    "version": 3
   },
   "file_extension": ".py",
   "mimetype": "text/x-python",
   "name": "python",
   "nbconvert_exporter": "python",
   "pygments_lexer": "ipython3",
   "version": "3.8.8"
  }
 },
 "nbformat": 4,
 "nbformat_minor": 5
}
