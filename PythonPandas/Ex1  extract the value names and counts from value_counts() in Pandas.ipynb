{
 "cells": [
  {
   "cell_type": "markdown",
   "id": "a8054676",
   "metadata": {},
   "source": [
    " we will learn how we can extract the names and values using values_count() from panda. The panda library is equipped with a number of useful functions for ‘value_counts’ is one of them. This function returns the counts of unique items in a pandas data frame."
   ]
  },
  {
   "cell_type": "code",
   "execution_count": 1,
   "id": "742d1d08",
   "metadata": {},
   "outputs": [],
   "source": [
    "# <object>.value_count()"
   ]
  },
  {
   "cell_type": "raw",
   "id": "e6269e6b",
   "metadata": {},
   "source": [
    "Approach:\n",
    "Import Required module.\n",
    "Make the DataFrame\n",
    "Process using value_count()\n",
    "Display data"
   ]
  },
  {
   "cell_type": "code",
   "execution_count": 2,
   "id": "30bccf58",
   "metadata": {},
   "outputs": [],
   "source": [
    "# Example 1: To print all the unique country and the first country name in the list."
   ]
  },
  {
   "cell_type": "raw",
   "id": "421c67e2",
   "metadata": {},
   "source": [
    "tolist() function return a list of the values.\n",
    "\n",
    "Syntax: Index.tolist() \n",
    "Parameters : None\n",
    "Returns : list"
   ]
  },
  {
   "cell_type": "code",
   "execution_count": 5,
   "id": "28679c8f",
   "metadata": {},
   "outputs": [],
   "source": [
    "import pandas as pd\n",
    "import matplotlib.pyplot as plt\n",
    "df=pd.DataFrame([(1,'Germany'),\n",
    "                 (2,'France'),\n",
    "                 (3,'Indonesia'),\n",
    "                 (4,'France'),\n",
    "                 (5,'France'),\n",
    "                 (6,'Germany'),\n",
    "                 (7,'Uk'),\n",
    "                 (8,'india'),\n",
    "                 (9,'india'),\n",
    "                 (10,'Germany')],\n",
    "                columns=['groupid','country'],index=['a','b','c','d','e','f','g','h','i','j'])\n",
    "                 "
   ]
  },
  {
   "cell_type": "code",
   "execution_count": 6,
   "id": "27575e87",
   "metadata": {},
   "outputs": [
    {
     "data": {
      "text/html": [
       "<div>\n",
       "<style scoped>\n",
       "    .dataframe tbody tr th:only-of-type {\n",
       "        vertical-align: middle;\n",
       "    }\n",
       "\n",
       "    .dataframe tbody tr th {\n",
       "        vertical-align: top;\n",
       "    }\n",
       "\n",
       "    .dataframe thead th {\n",
       "        text-align: right;\n",
       "    }\n",
       "</style>\n",
       "<table border=\"1\" class=\"dataframe\">\n",
       "  <thead>\n",
       "    <tr style=\"text-align: right;\">\n",
       "      <th></th>\n",
       "      <th>groupid</th>\n",
       "      <th>country</th>\n",
       "    </tr>\n",
       "  </thead>\n",
       "  <tbody>\n",
       "    <tr>\n",
       "      <th>a</th>\n",
       "      <td>1</td>\n",
       "      <td>Germany</td>\n",
       "    </tr>\n",
       "    <tr>\n",
       "      <th>b</th>\n",
       "      <td>2</td>\n",
       "      <td>France</td>\n",
       "    </tr>\n",
       "    <tr>\n",
       "      <th>c</th>\n",
       "      <td>3</td>\n",
       "      <td>Indonesia</td>\n",
       "    </tr>\n",
       "    <tr>\n",
       "      <th>d</th>\n",
       "      <td>4</td>\n",
       "      <td>France</td>\n",
       "    </tr>\n",
       "    <tr>\n",
       "      <th>e</th>\n",
       "      <td>5</td>\n",
       "      <td>France</td>\n",
       "    </tr>\n",
       "    <tr>\n",
       "      <th>f</th>\n",
       "      <td>6</td>\n",
       "      <td>Germany</td>\n",
       "    </tr>\n",
       "    <tr>\n",
       "      <th>g</th>\n",
       "      <td>7</td>\n",
       "      <td>Uk</td>\n",
       "    </tr>\n",
       "    <tr>\n",
       "      <th>h</th>\n",
       "      <td>8</td>\n",
       "      <td>india</td>\n",
       "    </tr>\n",
       "    <tr>\n",
       "      <th>i</th>\n",
       "      <td>9</td>\n",
       "      <td>india</td>\n",
       "    </tr>\n",
       "    <tr>\n",
       "      <th>j</th>\n",
       "      <td>10</td>\n",
       "      <td>Germany</td>\n",
       "    </tr>\n",
       "  </tbody>\n",
       "</table>\n",
       "</div>"
      ],
      "text/plain": [
       "   groupid    country\n",
       "a        1    Germany\n",
       "b        2     France\n",
       "c        3  Indonesia\n",
       "d        4     France\n",
       "e        5     France\n",
       "f        6    Germany\n",
       "g        7         Uk\n",
       "h        8      india\n",
       "i        9      india\n",
       "j       10    Germany"
      ]
     },
     "execution_count": 6,
     "metadata": {},
     "output_type": "execute_result"
    }
   ],
   "source": [
    "df"
   ]
  },
  {
   "cell_type": "code",
   "execution_count": 7,
   "id": "265675d9",
   "metadata": {},
   "outputs": [],
   "source": [
    "su1=df['country'].value_counts().index.tolist()"
   ]
  },
  {
   "cell_type": "code",
   "execution_count": 8,
   "id": "05c41af4",
   "metadata": {},
   "outputs": [
    {
     "data": {
      "text/plain": [
       "['France', 'Germany', 'india', 'Uk', 'Indonesia']"
      ]
     },
     "execution_count": 8,
     "metadata": {},
     "output_type": "execute_result"
    }
   ],
   "source": [
    "su1\n",
    "# print all unique country name in list"
   ]
  },
  {
   "cell_type": "code",
   "execution_count": 9,
   "id": "5cbc3db8",
   "metadata": {},
   "outputs": [
    {
     "name": "stdout",
     "output_type": "stream",
     "text": [
      "France\n"
     ]
    }
   ],
   "source": [
    "# print 1st unique country name present in a list\n",
    "su2 = df['country'].value_counts().index.tolist()[0]\n",
    "print(su2)"
   ]
  },
  {
   "cell_type": "code",
   "execution_count": 11,
   "id": "5a9bee56",
   "metadata": {},
   "outputs": [
    {
     "data": {
      "text/plain": [
       "France       3\n",
       "Germany      3\n",
       "india        2\n",
       "Uk           1\n",
       "Indonesia    1\n",
       "Name: country, dtype: int64"
      ]
     },
     "execution_count": 11,
     "metadata": {},
     "output_type": "execute_result"
    }
   ],
   "source": [
    "# # print country name and counts\n",
    "su1=df['country'].value_counts()\n",
    "su1"
   ]
  },
  {
   "cell_type": "code",
   "execution_count": 13,
   "id": "6f1ee59d",
   "metadata": {},
   "outputs": [
    {
     "data": {
      "text/plain": [
       "3"
      ]
     },
     "execution_count": 13,
     "metadata": {},
     "output_type": "execute_result"
    }
   ],
   "source": [
    "\n",
    "su1=df['country'].value_counts()[0]\n",
    "su1"
   ]
  },
  {
   "cell_type": "code",
   "execution_count": 14,
   "id": "824d9eb6",
   "metadata": {},
   "outputs": [
    {
     "name": "stdout",
     "output_type": "stream",
     "text": [
      "Name : France\n",
      "Counts : 3\n",
      "Name : Germany\n",
      "Counts : 3\n",
      "Name : india\n",
      "Counts : 2\n",
      "Name : Uk\n",
      "Counts : 1\n",
      "Name : Indonesia\n",
      "Counts : 1\n"
     ]
    }
   ],
   "source": [
    "# printing names and count using loop.\n",
    "for idx, name in enumerate(df['country'].value_counts().index.tolist()):\n",
    "    print('Name :', name)\n",
    "    print('Counts :', df['country'].value_counts()[idx])"
   ]
  },
  {
   "cell_type": "code",
   "execution_count": 15,
   "id": "b30fc4e5",
   "metadata": {},
   "outputs": [
    {
     "data": {
      "image/png": "[encoded data removed]",
      "text/plain": [
       "<Figure size 432x288 with 1 Axes>"
      ]
     },
     "metadata": {
      "needs_background": "light"
     },
     "output_type": "display_data"
    }
   ],
   "source": [
    "# Display data in a form of Graph\n",
    "df['country'].value_counts().plot(kind='bar')\n",
    "plt.show()"
   ]
  },
  {
   "cell_type": "code",
   "execution_count": null,
   "id": "ec7f56d4",
   "metadata": {},
   "outputs": [],
   "source": []
  }
 ],
 "metadata": {
  "kernelspec": {
   "display_name": "Python 3",
   "language": "python",
   "name": "python3"
  },
  "language_info": {
   "codemirror_mode": {
    "name": "ipython",
    "version": 3
   },
   "file_extension": ".py",
   "mimetype": "text/x-python",
   "name": "python",
   "nbconvert_exporter": "python",
   "pygments_lexer": "ipython3",
   "version": "3.8.8"
  }
 },
 "nbformat": 4,
 "nbformat_minor": 5
}
