{
 "cells": [
  {
   "cell_type": "markdown",
   "id": "53e8bfa4",
   "metadata": {},
   "source": [
    "# Pandas Series"
   ]
  },
  {
   "cell_type": "markdown",
   "id": "f0ea1594",
   "metadata": {},
   "source": [
    "# What is a Series?\n",
    "A Pandas Series is like a column in a table.\n",
    "\n",
    "It is a one-dimensional array holding data of any type.\n",
    "\n",
    "Example\n",
    "Create a simple Pandas Series from a list:"
   ]
  },
  {
   "cell_type": "code",
   "execution_count": 2,
   "id": "98835202",
   "metadata": {},
   "outputs": [
    {
     "name": "stdout",
     "output_type": "stream",
     "text": [
      "0    1\n",
      "1    6\n",
      "2    4\n",
      "3    3\n",
      "dtype: int64\n"
     ]
    }
   ],
   "source": [
    "import pandas as pd\n",
    "a=[1,6,4,3]\n",
    "myvar=pd.Series(a)\n",
    "print(myvar)"
   ]
  },
  {
   "cell_type": "markdown",
   "id": "b0b6e912",
   "metadata": {},
   "source": [
    "# Labels\n",
    "If nothing else is specified, the values are labeled with their index number. First value has index 0, second value has index 1 etc.\n",
    "\n",
    "This label can be used to access a specified value.\n",
    "\n",
    "Example\n",
    "Return the first value of the Series:"
   ]
  },
  {
   "cell_type": "code",
   "execution_count": 3,
   "id": "2ff93cbc",
   "metadata": {},
   "outputs": [
    {
     "name": "stdout",
     "output_type": "stream",
     "text": [
      "1\n"
     ]
    }
   ],
   "source": [
    "print(myvar[0])"
   ]
  },
  {
   "cell_type": "markdown",
   "id": "b01f24ae",
   "metadata": {},
   "source": [
    "# Create Labels\n",
    "With the index argument, you can name your own labels.\n",
    "\n",
    "Example\n",
    "Create you own labels:"
   ]
  },
  {
   "cell_type": "code",
   "execution_count": 7,
   "id": "fe2061fb",
   "metadata": {},
   "outputs": [
    {
     "name": "stdout",
     "output_type": "stream",
     "text": [
      "x    1\n",
      "y    2\n",
      "z    3\n",
      "dtype: int64\n"
     ]
    }
   ],
   "source": [
    "import pandas as pd\n",
    "a=[1,2,3]\n",
    "myvar=pd.Series(a,index=[\"x\",\"y\",\"z\"])\n",
    "print(myvar)"
   ]
  },
  {
   "cell_type": "markdown",
   "id": "dd1a775f",
   "metadata": {},
   "source": [
    "# Example\n",
    "Return the value of \"y\":"
   ]
  },
  {
   "cell_type": "code",
   "execution_count": 8,
   "id": "4477fe4a",
   "metadata": {},
   "outputs": [
    {
     "name": "stdout",
     "output_type": "stream",
     "text": [
      "2\n"
     ]
    }
   ],
   "source": [
    "print(myvar[\"y\"])"
   ]
  },
  {
   "cell_type": "markdown",
   "id": "a1200e52",
   "metadata": {},
   "source": [
    "# Key/Value Objects as Series\n",
    "You can also use a key/value object, like a dictionary, when creating a Series.\n",
    "\n",
    "Example\n",
    "Create a simple Pandas Series from a dictionary:"
   ]
  },
  {
   "cell_type": "code",
   "execution_count": 9,
   "id": "7e3a71e6",
   "metadata": {},
   "outputs": [
    {
     "name": "stdout",
     "output_type": "stream",
     "text": [
      "day1    420\n",
      "day2    380\n",
      "day3    390\n",
      "dtype: int64\n"
     ]
    }
   ],
   "source": [
    "import pandas as pd\n",
    "calories={\"day1\":420,\"day2\":380,\"day3\":390}\n",
    "myvar=pd.Series(calories)\n",
    "print(myvar)"
   ]
  },
  {
   "cell_type": "markdown",
   "id": "8e1230dc",
   "metadata": {},
   "source": [
    "Note: The keys of the dictionary become the labels.\n",
    "\n",
    "To select only some of the items in the dictionary, use the index argument and specify only the items you want to include in the Series."
   ]
  },
  {
   "cell_type": "markdown",
   "id": "e4784bf1",
   "metadata": {},
   "source": [
    "Example\n",
    "Create a Series using only data from \"day1\" and \"day2\":"
   ]
  },
  {
   "cell_type": "code",
   "execution_count": 11,
   "id": "70e5698f",
   "metadata": {},
   "outputs": [
    {
     "name": "stdout",
     "output_type": "stream",
     "text": [
      "day1    420\n",
      "day2    380\n",
      "dtype: int64\n"
     ]
    }
   ],
   "source": [
    "import pandas as pd\n",
    "calories={\"day1\":420,\"day2\":380,\"day3\":390}\n",
    "myvar=pd.Series(calories,index=[\"day1\",\"day2\"])\n",
    "print(myvar)"
   ]
  },
  {
   "cell_type": "markdown",
   "id": "b59d9439",
   "metadata": {},
   "source": [
    "# DataFrames\n",
    "Data sets in Pandas are usually multi-dimensional tables, called DataFrames.\n",
    "\n",
    "Series is like a column, a DataFrame is the whole table."
   ]
  },
  {
   "cell_type": "markdown",
   "id": "b0a6d975",
   "metadata": {},
   "source": [
    "# Example\n",
    "Create a DataFrame from two Series:"
   ]
  },
  {
   "cell_type": "code",
   "execution_count": 13,
   "id": "d827ea6d",
   "metadata": {},
   "outputs": [
    {
     "name": "stdout",
     "output_type": "stream",
     "text": [
      "   calories  duration\n",
      "0       420        50\n",
      "1       380        40\n",
      "2       120        45\n"
     ]
    }
   ],
   "source": [
    "import pandas as pd\n",
    "data={\"calories\":[420,380,120],\"duration\":[50,40,45]}\n",
    "myvar=pd.DataFrame(data)\n",
    "print(myvar)"
   ]
  },
  {
   "cell_type": "code",
   "execution_count": null,
   "id": "af8e0805",
   "metadata": {},
   "outputs": [],
   "source": []
  }
 ],
 "metadata": {
  "kernelspec": {
   "display_name": "Python 3",
   "language": "python",
   "name": "python3"
  },
  "language_info": {
   "codemirror_mode": {
    "name": "ipython",
    "version": 3
   },
   "file_extension": ".py",
   "mimetype": "text/x-python",
   "name": "python",
   "nbconvert_exporter": "python",
   "pygments_lexer": "ipython3",
   "version": "3.8.8"
  }
 },
 "nbformat": 4,
 "nbformat_minor": 5
}
