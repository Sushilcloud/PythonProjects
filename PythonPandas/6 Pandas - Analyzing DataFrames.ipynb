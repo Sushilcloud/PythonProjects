{
 "cells": [
  {
   "cell_type": "markdown",
   "id": "94d25227",
   "metadata": {},
   "source": [
    "# Pandas - Analyzing DataFrames\n"
   ]
  },
  {
   "cell_type": "markdown",
   "id": "4474d05e",
   "metadata": {},
   "source": [
    "# Viewing the Data\n",
    "One of the most used method for getting a quick overview of the DataFrame, is the head() method.\n",
    "\n",
    "The head() method returns the headers and a specified number of rows, starting from the top.\n",
    "\n",
    "Example\n",
    "Get a quick overview by printing the first 10 rows of the DataFrame:"
   ]
  },
  {
   "cell_type": "code",
   "execution_count": 8,
   "id": "ca7129ab",
   "metadata": {},
   "outputs": [
    {
     "name": "stdout",
     "output_type": "stream",
     "text": [
      "     Gender Married     Education  ApplicantIncome  LoanAmount  \\\n",
      "0      Male      No      Graduate             5849         NaN   \n",
      "1      Male     Yes      Graduate             4583       128.0   \n",
      "2      Male     Yes      Graduate             3000        66.0   \n",
      "3      Male     Yes  Not Graduate             2583       120.0   \n",
      "4      Male      No      Graduate             6000       141.0   \n",
      "..      ...     ...           ...              ...         ...   \n",
      "609  Female      No      Graduate             2900        71.0   \n",
      "610    Male     Yes      Graduate             4106        40.0   \n",
      "611    Male     Yes      Graduate             8072       253.0   \n",
      "612    Male     Yes      Graduate             7583       187.0   \n",
      "613  Female      No      Graduate             4583       133.0   \n",
      "\n",
      "     Loan_Amount_Term Loan_Status  \n",
      "0               360.0           Y  \n",
      "1               360.0           N  \n",
      "2               360.0           Y  \n",
      "3               360.0           Y  \n",
      "4               360.0           Y  \n",
      "..                ...         ...  \n",
      "609             360.0           Y  \n",
      "610             180.0           Y  \n",
      "611             360.0           Y  \n",
      "612             360.0           Y  \n",
      "613             360.0           N  \n",
      "\n",
      "[614 rows x 7 columns]\n"
     ]
    }
   ],
   "source": [
    "import pandas as pd\n",
    "df=pd.read_csv(\"loan.csv\")\n",
    "print(df)"
   ]
  },
  {
   "cell_type": "code",
   "execution_count": 9,
   "id": "a5c64612",
   "metadata": {},
   "outputs": [
    {
     "name": "stdout",
     "output_type": "stream",
     "text": [
      "  Gender Married Education  ApplicantIncome  LoanAmount  Loan_Amount_Term  \\\n",
      "0   Male      No  Graduate             5849         NaN             360.0   \n",
      "1   Male     Yes  Graduate             4583       128.0             360.0   \n",
      "\n",
      "  Loan_Status  \n",
      "0           Y  \n",
      "1           N  \n"
     ]
    }
   ],
   "source": [
    "print(df.head(2))"
   ]
  },
  {
   "cell_type": "code",
   "execution_count": 10,
   "id": "59547760",
   "metadata": {},
   "outputs": [
    {
     "name": "stdout",
     "output_type": "stream",
     "text": [
      "<class 'pandas.core.frame.DataFrame'>\n",
      "RangeIndex: 614 entries, 0 to 613\n",
      "Data columns (total 7 columns):\n",
      " #   Column            Non-Null Count  Dtype  \n",
      "---  ------            --------------  -----  \n",
      " 0   Gender            601 non-null    object \n",
      " 1   Married           611 non-null    object \n",
      " 2   Education         614 non-null    object \n",
      " 3   ApplicantIncome   614 non-null    int64  \n",
      " 4   LoanAmount        592 non-null    float64\n",
      " 5   Loan_Amount_Term  600 non-null    float64\n",
      " 6   Loan_Status       614 non-null    object \n",
      "dtypes: float64(2), int64(1), object(4)\n",
      "memory usage: 33.7+ KB\n",
      "None\n"
     ]
    }
   ],
   "source": [
    "print(df.info())"
   ]
  },
  {
   "cell_type": "markdown",
   "id": "5e8085e0",
   "metadata": {},
   "source": [
    "# Null Values\n",
    "The info() method also tells us how many Non-Null values there are present in each column, and in our data set it seems like there are 164 of 169 Non-Null values in the \"Calories\" column.\n",
    "\n",
    "Which means that there are 5 rows with no value at all, in the \"Calories\" column, for whatever reason.\n",
    "\n",
    "Empty values, or Null values, can be bad when analyzing data, and you should consider removing rows with empty values. This is a step towards what is called cleaning data, and you will learn more about that in the next chapters."
   ]
  },
  {
   "cell_type": "code",
   "execution_count": null,
   "id": "0ae10a8d",
   "metadata": {},
   "outputs": [],
   "source": []
  },
  {
   "cell_type": "code",
   "execution_count": null,
   "id": "f411617c",
   "metadata": {},
   "outputs": [],
   "source": []
  }
 ],
 "metadata": {
  "kernelspec": {
   "display_name": "Python 3",
   "language": "python",
   "name": "python3"
  },
  "language_info": {
   "codemirror_mode": {
    "name": "ipython",
    "version": 3
   },
   "file_extension": ".py",
   "mimetype": "text/x-python",
   "name": "python",
   "nbconvert_exporter": "python",
   "pygments_lexer": "ipython3",
   "version": "3.8.8"
  }
 },
 "nbformat": 4,
 "nbformat_minor": 5
}
